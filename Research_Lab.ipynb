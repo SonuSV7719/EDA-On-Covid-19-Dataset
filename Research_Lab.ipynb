{
  "cells": [
    {
      "cell_type": "markdown",
      "metadata": {
        "id": "view-in-github",
        "colab_type": "text"
      },
      "source": [
        "<a href=\"https://colab.research.google.com/github/SonuSV7719/EDA-On-Covid-19-Dataset/blob/main/Research_Lab.ipynb\" target=\"_parent\"><img src=\"https://colab.research.google.com/assets/colab-badge.svg\" alt=\"Open In Colab\"/></a>"
      ]
    },
    {
      "cell_type": "code",
      "execution_count": null,
      "metadata": {
        "colab": {
          "base_uri": "https://localhost:8080/"
        },
        "id": "C2-fK6S2gCW7",
        "outputId": "f412fc25-432c-45d0-f8c3-e425e2bad3da"
      },
      "outputs": [
        {
          "output_type": "stream",
          "name": "stdout",
          "text": [
            "Mounted at /content/drive\n"
          ]
        }
      ],
      "source": [
        "from google.colab import drive\n",
        "drive.mount('/content/drive')"
      ]
    },
    {
      "cell_type": "code",
      "execution_count": null,
      "metadata": {
        "id": "ELb94SV1gtfZ"
      },
      "outputs": [],
      "source": [
        "import numpy as np\n",
        "import pandas as pd\n",
        "import matplotlib.pyplot as plt\n",
        "import seaborn as sns\n"
      ]
    },
    {
      "cell_type": "code",
      "execution_count": null,
      "metadata": {
        "id": "3LvzaWBYgwM2"
      },
      "outputs": [],
      "source": [
        "path = \"/content/drive/MyDrive/Research Lab/country_wise_latest.csv\"\n",
        "df = pd.read_csv(path)"
      ]
    },
    {
      "cell_type": "code",
      "execution_count": null,
      "metadata": {
        "colab": {
          "base_uri": "https://localhost:8080/",
          "height": 302
        },
        "id": "vOrQwtZ6g4lY",
        "outputId": "1e501cae-2d91-4110-9bc6-ea6eff429e99"
      },
      "outputs": [
        {
          "output_type": "execute_result",
          "data": {
            "text/plain": [
              "  Country/Region  Confirmed  Deaths  Recovered  Active  New cases  New deaths  \\\n",
              "0    Afghanistan      36263    1269      25198    9796        106          10   \n",
              "1        Albania       4880     144       2745    1991        117           6   \n",
              "2        Algeria      27973    1163      18837    7973        616           8   \n",
              "3        Andorra        907      52        803      52         10           0   \n",
              "4         Angola        950      41        242     667         18           1   \n",
              "\n",
              "   New recovered  Deaths / 100 Cases  Recovered / 100 Cases  \\\n",
              "0             18                3.50                  69.49   \n",
              "1             63                2.95                  56.25   \n",
              "2            749                4.16                  67.34   \n",
              "3              0                5.73                  88.53   \n",
              "4              0                4.32                  25.47   \n",
              "\n",
              "   Deaths / 100 Recovered  Confirmed last week  1 week change  \\\n",
              "0                    5.04                35526            737   \n",
              "1                    5.25                 4171            709   \n",
              "2                    6.17                23691           4282   \n",
              "3                    6.48                  884             23   \n",
              "4                   16.94                  749            201   \n",
              "\n",
              "   1 week % increase             WHO Region  \n",
              "0               2.07  Eastern Mediterranean  \n",
              "1              17.00                 Europe  \n",
              "2              18.07                 Africa  \n",
              "3               2.60                 Europe  \n",
              "4              26.84                 Africa  "
            ],
            "text/html": [
              "\n",
              "  <div id=\"df-f1b71b42-19b6-4f26-b709-29ba1605a458\">\n",
              "    <div class=\"colab-df-container\">\n",
              "      <div>\n",
              "<style scoped>\n",
              "    .dataframe tbody tr th:only-of-type {\n",
              "        vertical-align: middle;\n",
              "    }\n",
              "\n",
              "    .dataframe tbody tr th {\n",
              "        vertical-align: top;\n",
              "    }\n",
              "\n",
              "    .dataframe thead th {\n",
              "        text-align: right;\n",
              "    }\n",
              "</style>\n",
              "<table border=\"1\" class=\"dataframe\">\n",
              "  <thead>\n",
              "    <tr style=\"text-align: right;\">\n",
              "      <th></th>\n",
              "      <th>Country/Region</th>\n",
              "      <th>Confirmed</th>\n",
              "      <th>Deaths</th>\n",
              "      <th>Recovered</th>\n",
              "      <th>Active</th>\n",
              "      <th>New cases</th>\n",
              "      <th>New deaths</th>\n",
              "      <th>New recovered</th>\n",
              "      <th>Deaths / 100 Cases</th>\n",
              "      <th>Recovered / 100 Cases</th>\n",
              "      <th>Deaths / 100 Recovered</th>\n",
              "      <th>Confirmed last week</th>\n",
              "      <th>1 week change</th>\n",
              "      <th>1 week % increase</th>\n",
              "      <th>WHO Region</th>\n",
              "    </tr>\n",
              "  </thead>\n",
              "  <tbody>\n",
              "    <tr>\n",
              "      <th>0</th>\n",
              "      <td>Afghanistan</td>\n",
              "      <td>36263</td>\n",
              "      <td>1269</td>\n",
              "      <td>25198</td>\n",
              "      <td>9796</td>\n",
              "      <td>106</td>\n",
              "      <td>10</td>\n",
              "      <td>18</td>\n",
              "      <td>3.50</td>\n",
              "      <td>69.49</td>\n",
              "      <td>5.04</td>\n",
              "      <td>35526</td>\n",
              "      <td>737</td>\n",
              "      <td>2.07</td>\n",
              "      <td>Eastern Mediterranean</td>\n",
              "    </tr>\n",
              "    <tr>\n",
              "      <th>1</th>\n",
              "      <td>Albania</td>\n",
              "      <td>4880</td>\n",
              "      <td>144</td>\n",
              "      <td>2745</td>\n",
              "      <td>1991</td>\n",
              "      <td>117</td>\n",
              "      <td>6</td>\n",
              "      <td>63</td>\n",
              "      <td>2.95</td>\n",
              "      <td>56.25</td>\n",
              "      <td>5.25</td>\n",
              "      <td>4171</td>\n",
              "      <td>709</td>\n",
              "      <td>17.00</td>\n",
              "      <td>Europe</td>\n",
              "    </tr>\n",
              "    <tr>\n",
              "      <th>2</th>\n",
              "      <td>Algeria</td>\n",
              "      <td>27973</td>\n",
              "      <td>1163</td>\n",
              "      <td>18837</td>\n",
              "      <td>7973</td>\n",
              "      <td>616</td>\n",
              "      <td>8</td>\n",
              "      <td>749</td>\n",
              "      <td>4.16</td>\n",
              "      <td>67.34</td>\n",
              "      <td>6.17</td>\n",
              "      <td>23691</td>\n",
              "      <td>4282</td>\n",
              "      <td>18.07</td>\n",
              "      <td>Africa</td>\n",
              "    </tr>\n",
              "    <tr>\n",
              "      <th>3</th>\n",
              "      <td>Andorra</td>\n",
              "      <td>907</td>\n",
              "      <td>52</td>\n",
              "      <td>803</td>\n",
              "      <td>52</td>\n",
              "      <td>10</td>\n",
              "      <td>0</td>\n",
              "      <td>0</td>\n",
              "      <td>5.73</td>\n",
              "      <td>88.53</td>\n",
              "      <td>6.48</td>\n",
              "      <td>884</td>\n",
              "      <td>23</td>\n",
              "      <td>2.60</td>\n",
              "      <td>Europe</td>\n",
              "    </tr>\n",
              "    <tr>\n",
              "      <th>4</th>\n",
              "      <td>Angola</td>\n",
              "      <td>950</td>\n",
              "      <td>41</td>\n",
              "      <td>242</td>\n",
              "      <td>667</td>\n",
              "      <td>18</td>\n",
              "      <td>1</td>\n",
              "      <td>0</td>\n",
              "      <td>4.32</td>\n",
              "      <td>25.47</td>\n",
              "      <td>16.94</td>\n",
              "      <td>749</td>\n",
              "      <td>201</td>\n",
              "      <td>26.84</td>\n",
              "      <td>Africa</td>\n",
              "    </tr>\n",
              "  </tbody>\n",
              "</table>\n",
              "</div>\n",
              "      <button class=\"colab-df-convert\" onclick=\"convertToInteractive('df-f1b71b42-19b6-4f26-b709-29ba1605a458')\"\n",
              "              title=\"Convert this dataframe to an interactive table.\"\n",
              "              style=\"display:none;\">\n",
              "        \n",
              "  <svg xmlns=\"http://www.w3.org/2000/svg\" height=\"24px\"viewBox=\"0 0 24 24\"\n",
              "       width=\"24px\">\n",
              "    <path d=\"M0 0h24v24H0V0z\" fill=\"none\"/>\n",
              "    <path d=\"M18.56 5.44l.94 2.06.94-2.06 2.06-.94-2.06-.94-.94-2.06-.94 2.06-2.06.94zm-11 1L8.5 8.5l.94-2.06 2.06-.94-2.06-.94L8.5 2.5l-.94 2.06-2.06.94zm10 10l.94 2.06.94-2.06 2.06-.94-2.06-.94-.94-2.06-.94 2.06-2.06.94z\"/><path d=\"M17.41 7.96l-1.37-1.37c-.4-.4-.92-.59-1.43-.59-.52 0-1.04.2-1.43.59L10.3 9.45l-7.72 7.72c-.78.78-.78 2.05 0 2.83L4 21.41c.39.39.9.59 1.41.59.51 0 1.02-.2 1.41-.59l7.78-7.78 2.81-2.81c.8-.78.8-2.07 0-2.86zM5.41 20L4 18.59l7.72-7.72 1.47 1.35L5.41 20z\"/>\n",
              "  </svg>\n",
              "      </button>\n",
              "      \n",
              "  <style>\n",
              "    .colab-df-container {\n",
              "      display:flex;\n",
              "      flex-wrap:wrap;\n",
              "      gap: 12px;\n",
              "    }\n",
              "\n",
              "    .colab-df-convert {\n",
              "      background-color: #E8F0FE;\n",
              "      border: none;\n",
              "      border-radius: 50%;\n",
              "      cursor: pointer;\n",
              "      display: none;\n",
              "      fill: #1967D2;\n",
              "      height: 32px;\n",
              "      padding: 0 0 0 0;\n",
              "      width: 32px;\n",
              "    }\n",
              "\n",
              "    .colab-df-convert:hover {\n",
              "      background-color: #E2EBFA;\n",
              "      box-shadow: 0px 1px 2px rgba(60, 64, 67, 0.3), 0px 1px 3px 1px rgba(60, 64, 67, 0.15);\n",
              "      fill: #174EA6;\n",
              "    }\n",
              "\n",
              "    [theme=dark] .colab-df-convert {\n",
              "      background-color: #3B4455;\n",
              "      fill: #D2E3FC;\n",
              "    }\n",
              "\n",
              "    [theme=dark] .colab-df-convert:hover {\n",
              "      background-color: #434B5C;\n",
              "      box-shadow: 0px 1px 3px 1px rgba(0, 0, 0, 0.15);\n",
              "      filter: drop-shadow(0px 1px 2px rgba(0, 0, 0, 0.3));\n",
              "      fill: #FFFFFF;\n",
              "    }\n",
              "  </style>\n",
              "\n",
              "      <script>\n",
              "        const buttonEl =\n",
              "          document.querySelector('#df-f1b71b42-19b6-4f26-b709-29ba1605a458 button.colab-df-convert');\n",
              "        buttonEl.style.display =\n",
              "          google.colab.kernel.accessAllowed ? 'block' : 'none';\n",
              "\n",
              "        async function convertToInteractive(key) {\n",
              "          const element = document.querySelector('#df-f1b71b42-19b6-4f26-b709-29ba1605a458');\n",
              "          const dataTable =\n",
              "            await google.colab.kernel.invokeFunction('convertToInteractive',\n",
              "                                                     [key], {});\n",
              "          if (!dataTable) return;\n",
              "\n",
              "          const docLinkHtml = 'Like what you see? Visit the ' +\n",
              "            '<a target=\"_blank\" href=https://colab.research.google.com/notebooks/data_table.ipynb>data table notebook</a>'\n",
              "            + ' to learn more about interactive tables.';\n",
              "          element.innerHTML = '';\n",
              "          dataTable['output_type'] = 'display_data';\n",
              "          await google.colab.output.renderOutput(dataTable, element);\n",
              "          const docLink = document.createElement('div');\n",
              "          docLink.innerHTML = docLinkHtml;\n",
              "          element.appendChild(docLink);\n",
              "        }\n",
              "      </script>\n",
              "    </div>\n",
              "  </div>\n",
              "  "
            ]
          },
          "metadata": {},
          "execution_count": 4
        }
      ],
      "source": [
        "df.head()"
      ]
    },
    {
      "cell_type": "code",
      "execution_count": null,
      "metadata": {
        "colab": {
          "base_uri": "https://localhost:8080/",
          "height": 320
        },
        "id": "Q8b37AtUixZk",
        "outputId": "d55544ba-643a-4f5e-8e7e-d4ace8528f82"
      },
      "outputs": [
        {
          "output_type": "execute_result",
          "data": {
            "text/plain": [
              "         Country/Region  Confirmed  Deaths  Recovered  Active  New cases  \\\n",
              "182  West Bank and Gaza      10621      78       3752    6791        152   \n",
              "183      Western Sahara         10       1          8       1          0   \n",
              "184               Yemen       1691     483        833     375         10   \n",
              "185              Zambia       4552     140       2815    1597         71   \n",
              "186            Zimbabwe       2704      36        542    2126        192   \n",
              "\n",
              "     New deaths  New recovered  Deaths / 100 Cases  Recovered / 100 Cases  \\\n",
              "182           2              0                0.73                  35.33   \n",
              "183           0              0               10.00                  80.00   \n",
              "184           4             36               28.56                  49.26   \n",
              "185           1            465                3.08                  61.84   \n",
              "186           2             24                1.33                  20.04   \n",
              "\n",
              "     Deaths / 100 Recovered  Confirmed last week  1 week change  \\\n",
              "182                    2.08                 8916           1705   \n",
              "183                   12.50                   10              0   \n",
              "184                   57.98                 1619             72   \n",
              "185                    4.97                 3326           1226   \n",
              "186                    6.64                 1713            991   \n",
              "\n",
              "     1 week % increase             WHO Region  \n",
              "182              19.12  Eastern Mediterranean  \n",
              "183               0.00                 Africa  \n",
              "184               4.45  Eastern Mediterranean  \n",
              "185              36.86                 Africa  \n",
              "186              57.85                 Africa  "
            ],
            "text/html": [
              "\n",
              "  <div id=\"df-41fea8cc-8c1a-4319-b760-7286a0946c42\">\n",
              "    <div class=\"colab-df-container\">\n",
              "      <div>\n",
              "<style scoped>\n",
              "    .dataframe tbody tr th:only-of-type {\n",
              "        vertical-align: middle;\n",
              "    }\n",
              "\n",
              "    .dataframe tbody tr th {\n",
              "        vertical-align: top;\n",
              "    }\n",
              "\n",
              "    .dataframe thead th {\n",
              "        text-align: right;\n",
              "    }\n",
              "</style>\n",
              "<table border=\"1\" class=\"dataframe\">\n",
              "  <thead>\n",
              "    <tr style=\"text-align: right;\">\n",
              "      <th></th>\n",
              "      <th>Country/Region</th>\n",
              "      <th>Confirmed</th>\n",
              "      <th>Deaths</th>\n",
              "      <th>Recovered</th>\n",
              "      <th>Active</th>\n",
              "      <th>New cases</th>\n",
              "      <th>New deaths</th>\n",
              "      <th>New recovered</th>\n",
              "      <th>Deaths / 100 Cases</th>\n",
              "      <th>Recovered / 100 Cases</th>\n",
              "      <th>Deaths / 100 Recovered</th>\n",
              "      <th>Confirmed last week</th>\n",
              "      <th>1 week change</th>\n",
              "      <th>1 week % increase</th>\n",
              "      <th>WHO Region</th>\n",
              "    </tr>\n",
              "  </thead>\n",
              "  <tbody>\n",
              "    <tr>\n",
              "      <th>182</th>\n",
              "      <td>West Bank and Gaza</td>\n",
              "      <td>10621</td>\n",
              "      <td>78</td>\n",
              "      <td>3752</td>\n",
              "      <td>6791</td>\n",
              "      <td>152</td>\n",
              "      <td>2</td>\n",
              "      <td>0</td>\n",
              "      <td>0.73</td>\n",
              "      <td>35.33</td>\n",
              "      <td>2.08</td>\n",
              "      <td>8916</td>\n",
              "      <td>1705</td>\n",
              "      <td>19.12</td>\n",
              "      <td>Eastern Mediterranean</td>\n",
              "    </tr>\n",
              "    <tr>\n",
              "      <th>183</th>\n",
              "      <td>Western Sahara</td>\n",
              "      <td>10</td>\n",
              "      <td>1</td>\n",
              "      <td>8</td>\n",
              "      <td>1</td>\n",
              "      <td>0</td>\n",
              "      <td>0</td>\n",
              "      <td>0</td>\n",
              "      <td>10.00</td>\n",
              "      <td>80.00</td>\n",
              "      <td>12.50</td>\n",
              "      <td>10</td>\n",
              "      <td>0</td>\n",
              "      <td>0.00</td>\n",
              "      <td>Africa</td>\n",
              "    </tr>\n",
              "    <tr>\n",
              "      <th>184</th>\n",
              "      <td>Yemen</td>\n",
              "      <td>1691</td>\n",
              "      <td>483</td>\n",
              "      <td>833</td>\n",
              "      <td>375</td>\n",
              "      <td>10</td>\n",
              "      <td>4</td>\n",
              "      <td>36</td>\n",
              "      <td>28.56</td>\n",
              "      <td>49.26</td>\n",
              "      <td>57.98</td>\n",
              "      <td>1619</td>\n",
              "      <td>72</td>\n",
              "      <td>4.45</td>\n",
              "      <td>Eastern Mediterranean</td>\n",
              "    </tr>\n",
              "    <tr>\n",
              "      <th>185</th>\n",
              "      <td>Zambia</td>\n",
              "      <td>4552</td>\n",
              "      <td>140</td>\n",
              "      <td>2815</td>\n",
              "      <td>1597</td>\n",
              "      <td>71</td>\n",
              "      <td>1</td>\n",
              "      <td>465</td>\n",
              "      <td>3.08</td>\n",
              "      <td>61.84</td>\n",
              "      <td>4.97</td>\n",
              "      <td>3326</td>\n",
              "      <td>1226</td>\n",
              "      <td>36.86</td>\n",
              "      <td>Africa</td>\n",
              "    </tr>\n",
              "    <tr>\n",
              "      <th>186</th>\n",
              "      <td>Zimbabwe</td>\n",
              "      <td>2704</td>\n",
              "      <td>36</td>\n",
              "      <td>542</td>\n",
              "      <td>2126</td>\n",
              "      <td>192</td>\n",
              "      <td>2</td>\n",
              "      <td>24</td>\n",
              "      <td>1.33</td>\n",
              "      <td>20.04</td>\n",
              "      <td>6.64</td>\n",
              "      <td>1713</td>\n",
              "      <td>991</td>\n",
              "      <td>57.85</td>\n",
              "      <td>Africa</td>\n",
              "    </tr>\n",
              "  </tbody>\n",
              "</table>\n",
              "</div>\n",
              "      <button class=\"colab-df-convert\" onclick=\"convertToInteractive('df-41fea8cc-8c1a-4319-b760-7286a0946c42')\"\n",
              "              title=\"Convert this dataframe to an interactive table.\"\n",
              "              style=\"display:none;\">\n",
              "        \n",
              "  <svg xmlns=\"http://www.w3.org/2000/svg\" height=\"24px\"viewBox=\"0 0 24 24\"\n",
              "       width=\"24px\">\n",
              "    <path d=\"M0 0h24v24H0V0z\" fill=\"none\"/>\n",
              "    <path d=\"M18.56 5.44l.94 2.06.94-2.06 2.06-.94-2.06-.94-.94-2.06-.94 2.06-2.06.94zm-11 1L8.5 8.5l.94-2.06 2.06-.94-2.06-.94L8.5 2.5l-.94 2.06-2.06.94zm10 10l.94 2.06.94-2.06 2.06-.94-2.06-.94-.94-2.06-.94 2.06-2.06.94z\"/><path d=\"M17.41 7.96l-1.37-1.37c-.4-.4-.92-.59-1.43-.59-.52 0-1.04.2-1.43.59L10.3 9.45l-7.72 7.72c-.78.78-.78 2.05 0 2.83L4 21.41c.39.39.9.59 1.41.59.51 0 1.02-.2 1.41-.59l7.78-7.78 2.81-2.81c.8-.78.8-2.07 0-2.86zM5.41 20L4 18.59l7.72-7.72 1.47 1.35L5.41 20z\"/>\n",
              "  </svg>\n",
              "      </button>\n",
              "      \n",
              "  <style>\n",
              "    .colab-df-container {\n",
              "      display:flex;\n",
              "      flex-wrap:wrap;\n",
              "      gap: 12px;\n",
              "    }\n",
              "\n",
              "    .colab-df-convert {\n",
              "      background-color: #E8F0FE;\n",
              "      border: none;\n",
              "      border-radius: 50%;\n",
              "      cursor: pointer;\n",
              "      display: none;\n",
              "      fill: #1967D2;\n",
              "      height: 32px;\n",
              "      padding: 0 0 0 0;\n",
              "      width: 32px;\n",
              "    }\n",
              "\n",
              "    .colab-df-convert:hover {\n",
              "      background-color: #E2EBFA;\n",
              "      box-shadow: 0px 1px 2px rgba(60, 64, 67, 0.3), 0px 1px 3px 1px rgba(60, 64, 67, 0.15);\n",
              "      fill: #174EA6;\n",
              "    }\n",
              "\n",
              "    [theme=dark] .colab-df-convert {\n",
              "      background-color: #3B4455;\n",
              "      fill: #D2E3FC;\n",
              "    }\n",
              "\n",
              "    [theme=dark] .colab-df-convert:hover {\n",
              "      background-color: #434B5C;\n",
              "      box-shadow: 0px 1px 3px 1px rgba(0, 0, 0, 0.15);\n",
              "      filter: drop-shadow(0px 1px 2px rgba(0, 0, 0, 0.3));\n",
              "      fill: #FFFFFF;\n",
              "    }\n",
              "  </style>\n",
              "\n",
              "      <script>\n",
              "        const buttonEl =\n",
              "          document.querySelector('#df-41fea8cc-8c1a-4319-b760-7286a0946c42 button.colab-df-convert');\n",
              "        buttonEl.style.display =\n",
              "          google.colab.kernel.accessAllowed ? 'block' : 'none';\n",
              "\n",
              "        async function convertToInteractive(key) {\n",
              "          const element = document.querySelector('#df-41fea8cc-8c1a-4319-b760-7286a0946c42');\n",
              "          const dataTable =\n",
              "            await google.colab.kernel.invokeFunction('convertToInteractive',\n",
              "                                                     [key], {});\n",
              "          if (!dataTable) return;\n",
              "\n",
              "          const docLinkHtml = 'Like what you see? Visit the ' +\n",
              "            '<a target=\"_blank\" href=https://colab.research.google.com/notebooks/data_table.ipynb>data table notebook</a>'\n",
              "            + ' to learn more about interactive tables.';\n",
              "          element.innerHTML = '';\n",
              "          dataTable['output_type'] = 'display_data';\n",
              "          await google.colab.output.renderOutput(dataTable, element);\n",
              "          const docLink = document.createElement('div');\n",
              "          docLink.innerHTML = docLinkHtml;\n",
              "          element.appendChild(docLink);\n",
              "        }\n",
              "      </script>\n",
              "    </div>\n",
              "  </div>\n",
              "  "
            ]
          },
          "metadata": {},
          "execution_count": 5
        }
      ],
      "source": [
        "df.tail() # displays last five contents of df"
      ]
    },
    {
      "cell_type": "code",
      "execution_count": null,
      "metadata": {
        "colab": {
          "base_uri": "https://localhost:8080/"
        },
        "id": "Zcp9AwJBjEsI",
        "outputId": "476ed874-3eed-4792-a59b-9b9735700ecd"
      },
      "outputs": [
        {
          "output_type": "execute_result",
          "data": {
            "text/plain": [
              "(187, 15)"
            ]
          },
          "metadata": {},
          "execution_count": 6
        }
      ],
      "source": [
        "df.shape\n"
      ]
    },
    {
      "cell_type": "code",
      "execution_count": null,
      "metadata": {
        "colab": {
          "base_uri": "https://localhost:8080/"
        },
        "id": "hxy8ngFJjv02",
        "outputId": "9338bd53-b4fa-4702-dc0c-e92cacee59a2"
      },
      "outputs": [
        {
          "output_type": "execute_result",
          "data": {
            "text/plain": [
              "187"
            ]
          },
          "metadata": {},
          "execution_count": 7
        }
      ],
      "source": [
        "df.shape[0] #gives total number of observations"
      ]
    },
    {
      "cell_type": "code",
      "execution_count": null,
      "metadata": {
        "colab": {
          "base_uri": "https://localhost:8080/"
        },
        "id": "B-b81XiXj2tx",
        "outputId": "c9288560-709c-4c9e-b18e-79408c26baf6"
      },
      "outputs": [
        {
          "output_type": "execute_result",
          "data": {
            "text/plain": [
              "15"
            ]
          },
          "metadata": {},
          "execution_count": 8
        }
      ],
      "source": [
        "df.shape[1] #gives total number of variables"
      ]
    },
    {
      "cell_type": "code",
      "execution_count": null,
      "metadata": {
        "colab": {
          "base_uri": "https://localhost:8080/"
        },
        "id": "Sud0DxvejGQV",
        "outputId": "a6886957-8236-4966-ede0-8edea9038cdf"
      },
      "outputs": [
        {
          "output_type": "execute_result",
          "data": {
            "text/plain": [
              "Country/Region             object\n",
              "Confirmed                   int64\n",
              "Deaths                      int64\n",
              "Recovered                   int64\n",
              "Active                      int64\n",
              "New cases                   int64\n",
              "New deaths                  int64\n",
              "New recovered               int64\n",
              "Deaths / 100 Cases        float64\n",
              "Recovered / 100 Cases     float64\n",
              "Deaths / 100 Recovered    float64\n",
              "Confirmed last week         int64\n",
              "1 week change               int64\n",
              "1 week % increase         float64\n",
              "WHO Region                 object\n",
              "dtype: object"
            ]
          },
          "metadata": {},
          "execution_count": 9
        }
      ],
      "source": [
        "df.dtypes #gives datatype of each column "
      ]
    },
    {
      "cell_type": "markdown",
      "metadata": {
        "id": "32062I6EImE5"
      },
      "source": [
        "##**1. Basic Information About Dataset**"
      ]
    },
    {
      "cell_type": "code",
      "execution_count": null,
      "metadata": {
        "colab": {
          "base_uri": "https://localhost:8080/"
        },
        "id": "6QDDCa2cHwxR",
        "outputId": "7bbb4647-b541-495d-ad65-c2795840f9f0"
      },
      "outputs": [
        {
          "output_type": "stream",
          "name": "stdout",
          "text": [
            "<class 'pandas.core.frame.DataFrame'>\n",
            "RangeIndex: 187 entries, 0 to 186\n",
            "Data columns (total 15 columns):\n",
            " #   Column                  Non-Null Count  Dtype  \n",
            "---  ------                  --------------  -----  \n",
            " 0   Country/Region          187 non-null    object \n",
            " 1   Confirmed               187 non-null    int64  \n",
            " 2   Deaths                  187 non-null    int64  \n",
            " 3   Recovered               187 non-null    int64  \n",
            " 4   Active                  187 non-null    int64  \n",
            " 5   New cases               187 non-null    int64  \n",
            " 6   New deaths              187 non-null    int64  \n",
            " 7   New recovered           187 non-null    int64  \n",
            " 8   Deaths / 100 Cases      187 non-null    float64\n",
            " 9   Recovered / 100 Cases   187 non-null    float64\n",
            " 10  Deaths / 100 Recovered  187 non-null    float64\n",
            " 11  Confirmed last week     187 non-null    int64  \n",
            " 12  1 week change           187 non-null    int64  \n",
            " 13  1 week % increase       187 non-null    float64\n",
            " 14  WHO Region              187 non-null    object \n",
            "dtypes: float64(4), int64(9), object(2)\n",
            "memory usage: 22.0+ KB\n"
          ]
        }
      ],
      "source": [
        "df.info() #Gives all basic information like datatype, null values columns etc.\n"
      ]
    },
    {
      "cell_type": "code",
      "execution_count": null,
      "metadata": {
        "colab": {
          "base_uri": "https://localhost:8080/",
          "height": 399
        },
        "id": "EiYKq0aWHhpM",
        "outputId": "f399d456-8af2-4dea-847b-6f84a66809ae"
      },
      "outputs": [
        {
          "output_type": "execute_result",
          "data": {
            "text/plain": [
              "          Confirmed         Deaths     Recovered        Active     New cases  \\\n",
              "count  1.870000e+02     187.000000  1.870000e+02  1.870000e+02    187.000000   \n",
              "mean   8.813094e+04    3497.518717  5.063148e+04  3.400194e+04   1222.957219   \n",
              "std    3.833187e+05   14100.002482  1.901882e+05  2.133262e+05   5710.374790   \n",
              "min    1.000000e+01       0.000000  0.000000e+00  0.000000e+00      0.000000   \n",
              "25%    1.114000e+03      18.500000  6.265000e+02  1.415000e+02      4.000000   \n",
              "50%    5.059000e+03     108.000000  2.815000e+03  1.600000e+03     49.000000   \n",
              "75%    4.046050e+04     734.000000  2.260600e+04  9.149000e+03    419.500000   \n",
              "max    4.290259e+06  148011.000000  1.846641e+06  2.816444e+06  56336.000000   \n",
              "\n",
              "        New deaths  New recovered  Deaths / 100 Cases  Recovered / 100 Cases  \\\n",
              "count   187.000000     187.000000          187.000000             187.000000   \n",
              "mean     28.957219     933.812834            3.019519              64.820535   \n",
              "std     120.037173    4197.719635            3.454302              26.287694   \n",
              "min       0.000000       0.000000            0.000000               0.000000   \n",
              "25%       0.000000       0.000000            0.945000              48.770000   \n",
              "50%       1.000000      22.000000            2.150000              71.320000   \n",
              "75%       6.000000     221.000000            3.875000              86.885000   \n",
              "max    1076.000000   33728.000000           28.560000             100.000000   \n",
              "\n",
              "       Deaths / 100 Recovered  Confirmed last week  1 week change  \\\n",
              "count                  187.00         1.870000e+02     187.000000   \n",
              "mean                      inf         7.868248e+04    9448.459893   \n",
              "std                       NaN         3.382737e+05   47491.127684   \n",
              "min                      0.00         1.000000e+01     -47.000000   \n",
              "25%                      1.45         1.051500e+03      49.000000   \n",
              "50%                      3.62         5.020000e+03     432.000000   \n",
              "75%                      6.44         3.708050e+04    3172.000000   \n",
              "max                       inf         3.834677e+06  455582.000000   \n",
              "\n",
              "       1 week % increase  \n",
              "count         187.000000  \n",
              "mean           13.606203  \n",
              "std            24.509838  \n",
              "min            -3.840000  \n",
              "25%             2.775000  \n",
              "50%             6.890000  \n",
              "75%            16.855000  \n",
              "max           226.320000  "
            ],
            "text/html": [
              "\n",
              "  <div id=\"df-bdd503ad-46eb-43b9-8cb6-ba0cf19e6cf4\">\n",
              "    <div class=\"colab-df-container\">\n",
              "      <div>\n",
              "<style scoped>\n",
              "    .dataframe tbody tr th:only-of-type {\n",
              "        vertical-align: middle;\n",
              "    }\n",
              "\n",
              "    .dataframe tbody tr th {\n",
              "        vertical-align: top;\n",
              "    }\n",
              "\n",
              "    .dataframe thead th {\n",
              "        text-align: right;\n",
              "    }\n",
              "</style>\n",
              "<table border=\"1\" class=\"dataframe\">\n",
              "  <thead>\n",
              "    <tr style=\"text-align: right;\">\n",
              "      <th></th>\n",
              "      <th>Confirmed</th>\n",
              "      <th>Deaths</th>\n",
              "      <th>Recovered</th>\n",
              "      <th>Active</th>\n",
              "      <th>New cases</th>\n",
              "      <th>New deaths</th>\n",
              "      <th>New recovered</th>\n",
              "      <th>Deaths / 100 Cases</th>\n",
              "      <th>Recovered / 100 Cases</th>\n",
              "      <th>Deaths / 100 Recovered</th>\n",
              "      <th>Confirmed last week</th>\n",
              "      <th>1 week change</th>\n",
              "      <th>1 week % increase</th>\n",
              "    </tr>\n",
              "  </thead>\n",
              "  <tbody>\n",
              "    <tr>\n",
              "      <th>count</th>\n",
              "      <td>1.870000e+02</td>\n",
              "      <td>187.000000</td>\n",
              "      <td>1.870000e+02</td>\n",
              "      <td>1.870000e+02</td>\n",
              "      <td>187.000000</td>\n",
              "      <td>187.000000</td>\n",
              "      <td>187.000000</td>\n",
              "      <td>187.000000</td>\n",
              "      <td>187.000000</td>\n",
              "      <td>187.00</td>\n",
              "      <td>1.870000e+02</td>\n",
              "      <td>187.000000</td>\n",
              "      <td>187.000000</td>\n",
              "    </tr>\n",
              "    <tr>\n",
              "      <th>mean</th>\n",
              "      <td>8.813094e+04</td>\n",
              "      <td>3497.518717</td>\n",
              "      <td>5.063148e+04</td>\n",
              "      <td>3.400194e+04</td>\n",
              "      <td>1222.957219</td>\n",
              "      <td>28.957219</td>\n",
              "      <td>933.812834</td>\n",
              "      <td>3.019519</td>\n",
              "      <td>64.820535</td>\n",
              "      <td>inf</td>\n",
              "      <td>7.868248e+04</td>\n",
              "      <td>9448.459893</td>\n",
              "      <td>13.606203</td>\n",
              "    </tr>\n",
              "    <tr>\n",
              "      <th>std</th>\n",
              "      <td>3.833187e+05</td>\n",
              "      <td>14100.002482</td>\n",
              "      <td>1.901882e+05</td>\n",
              "      <td>2.133262e+05</td>\n",
              "      <td>5710.374790</td>\n",
              "      <td>120.037173</td>\n",
              "      <td>4197.719635</td>\n",
              "      <td>3.454302</td>\n",
              "      <td>26.287694</td>\n",
              "      <td>NaN</td>\n",
              "      <td>3.382737e+05</td>\n",
              "      <td>47491.127684</td>\n",
              "      <td>24.509838</td>\n",
              "    </tr>\n",
              "    <tr>\n",
              "      <th>min</th>\n",
              "      <td>1.000000e+01</td>\n",
              "      <td>0.000000</td>\n",
              "      <td>0.000000e+00</td>\n",
              "      <td>0.000000e+00</td>\n",
              "      <td>0.000000</td>\n",
              "      <td>0.000000</td>\n",
              "      <td>0.000000</td>\n",
              "      <td>0.000000</td>\n",
              "      <td>0.000000</td>\n",
              "      <td>0.00</td>\n",
              "      <td>1.000000e+01</td>\n",
              "      <td>-47.000000</td>\n",
              "      <td>-3.840000</td>\n",
              "    </tr>\n",
              "    <tr>\n",
              "      <th>25%</th>\n",
              "      <td>1.114000e+03</td>\n",
              "      <td>18.500000</td>\n",
              "      <td>6.265000e+02</td>\n",
              "      <td>1.415000e+02</td>\n",
              "      <td>4.000000</td>\n",
              "      <td>0.000000</td>\n",
              "      <td>0.000000</td>\n",
              "      <td>0.945000</td>\n",
              "      <td>48.770000</td>\n",
              "      <td>1.45</td>\n",
              "      <td>1.051500e+03</td>\n",
              "      <td>49.000000</td>\n",
              "      <td>2.775000</td>\n",
              "    </tr>\n",
              "    <tr>\n",
              "      <th>50%</th>\n",
              "      <td>5.059000e+03</td>\n",
              "      <td>108.000000</td>\n",
              "      <td>2.815000e+03</td>\n",
              "      <td>1.600000e+03</td>\n",
              "      <td>49.000000</td>\n",
              "      <td>1.000000</td>\n",
              "      <td>22.000000</td>\n",
              "      <td>2.150000</td>\n",
              "      <td>71.320000</td>\n",
              "      <td>3.62</td>\n",
              "      <td>5.020000e+03</td>\n",
              "      <td>432.000000</td>\n",
              "      <td>6.890000</td>\n",
              "    </tr>\n",
              "    <tr>\n",
              "      <th>75%</th>\n",
              "      <td>4.046050e+04</td>\n",
              "      <td>734.000000</td>\n",
              "      <td>2.260600e+04</td>\n",
              "      <td>9.149000e+03</td>\n",
              "      <td>419.500000</td>\n",
              "      <td>6.000000</td>\n",
              "      <td>221.000000</td>\n",
              "      <td>3.875000</td>\n",
              "      <td>86.885000</td>\n",
              "      <td>6.44</td>\n",
              "      <td>3.708050e+04</td>\n",
              "      <td>3172.000000</td>\n",
              "      <td>16.855000</td>\n",
              "    </tr>\n",
              "    <tr>\n",
              "      <th>max</th>\n",
              "      <td>4.290259e+06</td>\n",
              "      <td>148011.000000</td>\n",
              "      <td>1.846641e+06</td>\n",
              "      <td>2.816444e+06</td>\n",
              "      <td>56336.000000</td>\n",
              "      <td>1076.000000</td>\n",
              "      <td>33728.000000</td>\n",
              "      <td>28.560000</td>\n",
              "      <td>100.000000</td>\n",
              "      <td>inf</td>\n",
              "      <td>3.834677e+06</td>\n",
              "      <td>455582.000000</td>\n",
              "      <td>226.320000</td>\n",
              "    </tr>\n",
              "  </tbody>\n",
              "</table>\n",
              "</div>\n",
              "      <button class=\"colab-df-convert\" onclick=\"convertToInteractive('df-bdd503ad-46eb-43b9-8cb6-ba0cf19e6cf4')\"\n",
              "              title=\"Convert this dataframe to an interactive table.\"\n",
              "              style=\"display:none;\">\n",
              "        \n",
              "  <svg xmlns=\"http://www.w3.org/2000/svg\" height=\"24px\"viewBox=\"0 0 24 24\"\n",
              "       width=\"24px\">\n",
              "    <path d=\"M0 0h24v24H0V0z\" fill=\"none\"/>\n",
              "    <path d=\"M18.56 5.44l.94 2.06.94-2.06 2.06-.94-2.06-.94-.94-2.06-.94 2.06-2.06.94zm-11 1L8.5 8.5l.94-2.06 2.06-.94-2.06-.94L8.5 2.5l-.94 2.06-2.06.94zm10 10l.94 2.06.94-2.06 2.06-.94-2.06-.94-.94-2.06-.94 2.06-2.06.94z\"/><path d=\"M17.41 7.96l-1.37-1.37c-.4-.4-.92-.59-1.43-.59-.52 0-1.04.2-1.43.59L10.3 9.45l-7.72 7.72c-.78.78-.78 2.05 0 2.83L4 21.41c.39.39.9.59 1.41.59.51 0 1.02-.2 1.41-.59l7.78-7.78 2.81-2.81c.8-.78.8-2.07 0-2.86zM5.41 20L4 18.59l7.72-7.72 1.47 1.35L5.41 20z\"/>\n",
              "  </svg>\n",
              "      </button>\n",
              "      \n",
              "  <style>\n",
              "    .colab-df-container {\n",
              "      display:flex;\n",
              "      flex-wrap:wrap;\n",
              "      gap: 12px;\n",
              "    }\n",
              "\n",
              "    .colab-df-convert {\n",
              "      background-color: #E8F0FE;\n",
              "      border: none;\n",
              "      border-radius: 50%;\n",
              "      cursor: pointer;\n",
              "      display: none;\n",
              "      fill: #1967D2;\n",
              "      height: 32px;\n",
              "      padding: 0 0 0 0;\n",
              "      width: 32px;\n",
              "    }\n",
              "\n",
              "    .colab-df-convert:hover {\n",
              "      background-color: #E2EBFA;\n",
              "      box-shadow: 0px 1px 2px rgba(60, 64, 67, 0.3), 0px 1px 3px 1px rgba(60, 64, 67, 0.15);\n",
              "      fill: #174EA6;\n",
              "    }\n",
              "\n",
              "    [theme=dark] .colab-df-convert {\n",
              "      background-color: #3B4455;\n",
              "      fill: #D2E3FC;\n",
              "    }\n",
              "\n",
              "    [theme=dark] .colab-df-convert:hover {\n",
              "      background-color: #434B5C;\n",
              "      box-shadow: 0px 1px 3px 1px rgba(0, 0, 0, 0.15);\n",
              "      filter: drop-shadow(0px 1px 2px rgba(0, 0, 0, 0.3));\n",
              "      fill: #FFFFFF;\n",
              "    }\n",
              "  </style>\n",
              "\n",
              "      <script>\n",
              "        const buttonEl =\n",
              "          document.querySelector('#df-bdd503ad-46eb-43b9-8cb6-ba0cf19e6cf4 button.colab-df-convert');\n",
              "        buttonEl.style.display =\n",
              "          google.colab.kernel.accessAllowed ? 'block' : 'none';\n",
              "\n",
              "        async function convertToInteractive(key) {\n",
              "          const element = document.querySelector('#df-bdd503ad-46eb-43b9-8cb6-ba0cf19e6cf4');\n",
              "          const dataTable =\n",
              "            await google.colab.kernel.invokeFunction('convertToInteractive',\n",
              "                                                     [key], {});\n",
              "          if (!dataTable) return;\n",
              "\n",
              "          const docLinkHtml = 'Like what you see? Visit the ' +\n",
              "            '<a target=\"_blank\" href=https://colab.research.google.com/notebooks/data_table.ipynb>data table notebook</a>'\n",
              "            + ' to learn more about interactive tables.';\n",
              "          element.innerHTML = '';\n",
              "          dataTable['output_type'] = 'display_data';\n",
              "          await google.colab.output.renderOutput(dataTable, element);\n",
              "          const docLink = document.createElement('div');\n",
              "          docLink.innerHTML = docLinkHtml;\n",
              "          element.appendChild(docLink);\n",
              "        }\n",
              "      </script>\n",
              "    </div>\n",
              "  </div>\n",
              "  "
            ]
          },
          "metadata": {},
          "execution_count": 11
        }
      ],
      "source": [
        "df.describe()\n"
      ]
    },
    {
      "cell_type": "markdown",
      "metadata": {
        "id": "vhw_r6HGK1hO"
      },
      "source": [
        "##**2. Duplicate Values**"
      ]
    },
    {
      "cell_type": "code",
      "execution_count": null,
      "metadata": {
        "colab": {
          "base_uri": "https://localhost:8080/"
        },
        "id": "ic68MJFMLCJm",
        "outputId": "3f5b7364-966a-4670-bd19-fd32c13cbaa1"
      },
      "outputs": [
        {
          "output_type": "execute_result",
          "data": {
            "text/plain": [
              "0"
            ]
          },
          "metadata": {},
          "execution_count": 12
        }
      ],
      "source": [
        "df.duplicated().sum() # Zero duplicate values indicate in dataset there is no any duplicate values"
      ]
    },
    {
      "cell_type": "markdown",
      "metadata": {
        "id": "Pkr132c5Li2V"
      },
      "source": [
        "##**3. Unique values**"
      ]
    },
    {
      "cell_type": "code",
      "execution_count": null,
      "metadata": {
        "colab": {
          "base_uri": "https://localhost:8080/",
          "height": 302
        },
        "id": "BWFQWNfyLS1B",
        "outputId": "c0e20312-ab90-4d23-a37a-92c4fa33f087"
      },
      "outputs": [
        {
          "output_type": "execute_result",
          "data": {
            "text/plain": [
              "  Country/Region  Confirmed  Deaths  Recovered  Active  New cases  New deaths  \\\n",
              "0    Afghanistan      36263    1269      25198    9796        106          10   \n",
              "1        Albania       4880     144       2745    1991        117           6   \n",
              "2        Algeria      27973    1163      18837    7973        616           8   \n",
              "3        Andorra        907      52        803      52         10           0   \n",
              "4         Angola        950      41        242     667         18           1   \n",
              "\n",
              "   New recovered  Deaths / 100 Cases  Recovered / 100 Cases  \\\n",
              "0             18                3.50                  69.49   \n",
              "1             63                2.95                  56.25   \n",
              "2            749                4.16                  67.34   \n",
              "3              0                5.73                  88.53   \n",
              "4              0                4.32                  25.47   \n",
              "\n",
              "   Deaths / 100 Recovered  Confirmed last week  1 week change  \\\n",
              "0                    5.04                35526            737   \n",
              "1                    5.25                 4171            709   \n",
              "2                    6.17                23691           4282   \n",
              "3                    6.48                  884             23   \n",
              "4                   16.94                  749            201   \n",
              "\n",
              "   1 week % increase             WHO Region  \n",
              "0               2.07  Eastern Mediterranean  \n",
              "1              17.00                 Europe  \n",
              "2              18.07                 Africa  \n",
              "3               2.60                 Europe  \n",
              "4              26.84                 Africa  "
            ],
            "text/html": [
              "\n",
              "  <div id=\"df-a68fbce6-0c0e-4e28-b443-cc92222b6ccb\">\n",
              "    <div class=\"colab-df-container\">\n",
              "      <div>\n",
              "<style scoped>\n",
              "    .dataframe tbody tr th:only-of-type {\n",
              "        vertical-align: middle;\n",
              "    }\n",
              "\n",
              "    .dataframe tbody tr th {\n",
              "        vertical-align: top;\n",
              "    }\n",
              "\n",
              "    .dataframe thead th {\n",
              "        text-align: right;\n",
              "    }\n",
              "</style>\n",
              "<table border=\"1\" class=\"dataframe\">\n",
              "  <thead>\n",
              "    <tr style=\"text-align: right;\">\n",
              "      <th></th>\n",
              "      <th>Country/Region</th>\n",
              "      <th>Confirmed</th>\n",
              "      <th>Deaths</th>\n",
              "      <th>Recovered</th>\n",
              "      <th>Active</th>\n",
              "      <th>New cases</th>\n",
              "      <th>New deaths</th>\n",
              "      <th>New recovered</th>\n",
              "      <th>Deaths / 100 Cases</th>\n",
              "      <th>Recovered / 100 Cases</th>\n",
              "      <th>Deaths / 100 Recovered</th>\n",
              "      <th>Confirmed last week</th>\n",
              "      <th>1 week change</th>\n",
              "      <th>1 week % increase</th>\n",
              "      <th>WHO Region</th>\n",
              "    </tr>\n",
              "  </thead>\n",
              "  <tbody>\n",
              "    <tr>\n",
              "      <th>0</th>\n",
              "      <td>Afghanistan</td>\n",
              "      <td>36263</td>\n",
              "      <td>1269</td>\n",
              "      <td>25198</td>\n",
              "      <td>9796</td>\n",
              "      <td>106</td>\n",
              "      <td>10</td>\n",
              "      <td>18</td>\n",
              "      <td>3.50</td>\n",
              "      <td>69.49</td>\n",
              "      <td>5.04</td>\n",
              "      <td>35526</td>\n",
              "      <td>737</td>\n",
              "      <td>2.07</td>\n",
              "      <td>Eastern Mediterranean</td>\n",
              "    </tr>\n",
              "    <tr>\n",
              "      <th>1</th>\n",
              "      <td>Albania</td>\n",
              "      <td>4880</td>\n",
              "      <td>144</td>\n",
              "      <td>2745</td>\n",
              "      <td>1991</td>\n",
              "      <td>117</td>\n",
              "      <td>6</td>\n",
              "      <td>63</td>\n",
              "      <td>2.95</td>\n",
              "      <td>56.25</td>\n",
              "      <td>5.25</td>\n",
              "      <td>4171</td>\n",
              "      <td>709</td>\n",
              "      <td>17.00</td>\n",
              "      <td>Europe</td>\n",
              "    </tr>\n",
              "    <tr>\n",
              "      <th>2</th>\n",
              "      <td>Algeria</td>\n",
              "      <td>27973</td>\n",
              "      <td>1163</td>\n",
              "      <td>18837</td>\n",
              "      <td>7973</td>\n",
              "      <td>616</td>\n",
              "      <td>8</td>\n",
              "      <td>749</td>\n",
              "      <td>4.16</td>\n",
              "      <td>67.34</td>\n",
              "      <td>6.17</td>\n",
              "      <td>23691</td>\n",
              "      <td>4282</td>\n",
              "      <td>18.07</td>\n",
              "      <td>Africa</td>\n",
              "    </tr>\n",
              "    <tr>\n",
              "      <th>3</th>\n",
              "      <td>Andorra</td>\n",
              "      <td>907</td>\n",
              "      <td>52</td>\n",
              "      <td>803</td>\n",
              "      <td>52</td>\n",
              "      <td>10</td>\n",
              "      <td>0</td>\n",
              "      <td>0</td>\n",
              "      <td>5.73</td>\n",
              "      <td>88.53</td>\n",
              "      <td>6.48</td>\n",
              "      <td>884</td>\n",
              "      <td>23</td>\n",
              "      <td>2.60</td>\n",
              "      <td>Europe</td>\n",
              "    </tr>\n",
              "    <tr>\n",
              "      <th>4</th>\n",
              "      <td>Angola</td>\n",
              "      <td>950</td>\n",
              "      <td>41</td>\n",
              "      <td>242</td>\n",
              "      <td>667</td>\n",
              "      <td>18</td>\n",
              "      <td>1</td>\n",
              "      <td>0</td>\n",
              "      <td>4.32</td>\n",
              "      <td>25.47</td>\n",
              "      <td>16.94</td>\n",
              "      <td>749</td>\n",
              "      <td>201</td>\n",
              "      <td>26.84</td>\n",
              "      <td>Africa</td>\n",
              "    </tr>\n",
              "  </tbody>\n",
              "</table>\n",
              "</div>\n",
              "      <button class=\"colab-df-convert\" onclick=\"convertToInteractive('df-a68fbce6-0c0e-4e28-b443-cc92222b6ccb')\"\n",
              "              title=\"Convert this dataframe to an interactive table.\"\n",
              "              style=\"display:none;\">\n",
              "        \n",
              "  <svg xmlns=\"http://www.w3.org/2000/svg\" height=\"24px\"viewBox=\"0 0 24 24\"\n",
              "       width=\"24px\">\n",
              "    <path d=\"M0 0h24v24H0V0z\" fill=\"none\"/>\n",
              "    <path d=\"M18.56 5.44l.94 2.06.94-2.06 2.06-.94-2.06-.94-.94-2.06-.94 2.06-2.06.94zm-11 1L8.5 8.5l.94-2.06 2.06-.94-2.06-.94L8.5 2.5l-.94 2.06-2.06.94zm10 10l.94 2.06.94-2.06 2.06-.94-2.06-.94-.94-2.06-.94 2.06-2.06.94z\"/><path d=\"M17.41 7.96l-1.37-1.37c-.4-.4-.92-.59-1.43-.59-.52 0-1.04.2-1.43.59L10.3 9.45l-7.72 7.72c-.78.78-.78 2.05 0 2.83L4 21.41c.39.39.9.59 1.41.59.51 0 1.02-.2 1.41-.59l7.78-7.78 2.81-2.81c.8-.78.8-2.07 0-2.86zM5.41 20L4 18.59l7.72-7.72 1.47 1.35L5.41 20z\"/>\n",
              "  </svg>\n",
              "      </button>\n",
              "      \n",
              "  <style>\n",
              "    .colab-df-container {\n",
              "      display:flex;\n",
              "      flex-wrap:wrap;\n",
              "      gap: 12px;\n",
              "    }\n",
              "\n",
              "    .colab-df-convert {\n",
              "      background-color: #E8F0FE;\n",
              "      border: none;\n",
              "      border-radius: 50%;\n",
              "      cursor: pointer;\n",
              "      display: none;\n",
              "      fill: #1967D2;\n",
              "      height: 32px;\n",
              "      padding: 0 0 0 0;\n",
              "      width: 32px;\n",
              "    }\n",
              "\n",
              "    .colab-df-convert:hover {\n",
              "      background-color: #E2EBFA;\n",
              "      box-shadow: 0px 1px 2px rgba(60, 64, 67, 0.3), 0px 1px 3px 1px rgba(60, 64, 67, 0.15);\n",
              "      fill: #174EA6;\n",
              "    }\n",
              "\n",
              "    [theme=dark] .colab-df-convert {\n",
              "      background-color: #3B4455;\n",
              "      fill: #D2E3FC;\n",
              "    }\n",
              "\n",
              "    [theme=dark] .colab-df-convert:hover {\n",
              "      background-color: #434B5C;\n",
              "      box-shadow: 0px 1px 3px 1px rgba(0, 0, 0, 0.15);\n",
              "      filter: drop-shadow(0px 1px 2px rgba(0, 0, 0, 0.3));\n",
              "      fill: #FFFFFF;\n",
              "    }\n",
              "  </style>\n",
              "\n",
              "      <script>\n",
              "        const buttonEl =\n",
              "          document.querySelector('#df-a68fbce6-0c0e-4e28-b443-cc92222b6ccb button.colab-df-convert');\n",
              "        buttonEl.style.display =\n",
              "          google.colab.kernel.accessAllowed ? 'block' : 'none';\n",
              "\n",
              "        async function convertToInteractive(key) {\n",
              "          const element = document.querySelector('#df-a68fbce6-0c0e-4e28-b443-cc92222b6ccb');\n",
              "          const dataTable =\n",
              "            await google.colab.kernel.invokeFunction('convertToInteractive',\n",
              "                                                     [key], {});\n",
              "          if (!dataTable) return;\n",
              "\n",
              "          const docLinkHtml = 'Like what you see? Visit the ' +\n",
              "            '<a target=\"_blank\" href=https://colab.research.google.com/notebooks/data_table.ipynb>data table notebook</a>'\n",
              "            + ' to learn more about interactive tables.';\n",
              "          element.innerHTML = '';\n",
              "          dataTable['output_type'] = 'display_data';\n",
              "          await google.colab.output.renderOutput(dataTable, element);\n",
              "          const docLink = document.createElement('div');\n",
              "          docLink.innerHTML = docLinkHtml;\n",
              "          element.appendChild(docLink);\n",
              "        }\n",
              "      </script>\n",
              "    </div>\n",
              "  </div>\n",
              "  "
            ]
          },
          "metadata": {},
          "execution_count": 13
        }
      ],
      "source": [
        "df.head()"
      ]
    },
    {
      "cell_type": "code",
      "execution_count": null,
      "metadata": {
        "colab": {
          "base_uri": "https://localhost:8080/"
        },
        "id": "wwNnDacgL4Dh",
        "outputId": "a20d9c30-9569-4596-f390-ecf87bfee2cc"
      },
      "outputs": [
        {
          "output_type": "execute_result",
          "data": {
            "text/plain": [
              "array([  36263,    4880,   27973,     907,     950,      86,  167416,\n",
              "         37390,   15303,   20558,   30446,     382,   39482,  226225,\n",
              "           110,   67251,   66428,      48,    1770,      99,   71181,\n",
              "         10498,     739, 2442375,     141,   10621,    1100,     350,\n",
              "           378,    2328,     226,   17110,  116458,    4599,     922,\n",
              "        347923,   86783,  257101,     354,    3200,    8844,   15841,\n",
              "         15655,    4881,    2532,    1060,   15516,   13761,    5059,\n",
              "            18,   64156,   81161,   92482,   15035,    3071,     265,\n",
              "          2034,    2316,   14547,      27,    7398,  220352,    7189,\n",
              "           326,    1137,  207112,   33624,    4227,      14,      23,\n",
              "         45309,    7055,    1954,     389,    7340,      12,   39741,\n",
              "          4448,    1854, 1480073,  100303,  293606,  112585,   25892,\n",
              "         63985,  246286,     853,   31142,    1176,   84648,   17975,\n",
              "          7413,   64379,   33296,      20,    1219,    3882,     505,\n",
              "          1167,    2827,    2019,    6321,    9690,    3664,    8904,\n",
              "          3369,    2513,     701,    6208,     344,  395489,   23154,\n",
              "           116,     289,    2893,   20887,    1701,    1843,   18752,\n",
              "         53413,    1557,    3439,    1132,   41180,   10213,    9132,\n",
              "         77058,  274289,   61442,      62,    4548,  389717,   82040,\n",
              "         43402,   50299,  109597,   45902,  816680,    1879,      17,\n",
              "            24,      52,     699,     865,  268934,    9764,   24141,\n",
              "           114,    1783,   50838,    2181,    2087,    3196,  452529,\n",
              "         14203,    2305,  272421,    2805,   11424,    1483,   79395,\n",
              "         34477,     674,     462,    7235,     509,    3297,     874,\n",
              "           148,    1455,  227019, 4290259,    1128,   67096,   59177,\n",
              "        301708,    1202,   21209,   15988,     431,      10,    1691,\n",
              "          4552,    2704])"
            ]
          },
          "metadata": {},
          "execution_count": 14
        }
      ],
      "source": [
        "df['Confirmed'].unique()"
      ]
    },
    {
      "cell_type": "code",
      "execution_count": null,
      "metadata": {
        "colab": {
          "base_uri": "https://localhost:8080/"
        },
        "id": "ZO1Q6zdhM3Xa",
        "outputId": "7ef4fdf6-fae1-40e8-aeba-e3b09b62f675"
      },
      "outputs": [
        {
          "output_type": "execute_result",
          "data": {
            "text/plain": [
              "184"
            ]
          },
          "metadata": {},
          "execution_count": 15
        }
      ],
      "source": [
        "ar = df['Confirmed'].unique()\n",
        "len(ar)"
      ]
    },
    {
      "cell_type": "code",
      "execution_count": null,
      "metadata": {
        "colab": {
          "base_uri": "https://localhost:8080/"
        },
        "id": "ObuIZSSTMC97",
        "outputId": "30c723a1-e599-426d-98d3-e8ef3d21d3dc"
      },
      "outputs": [
        {
          "output_type": "execute_result",
          "data": {
            "text/plain": [
              "array([  1269,    144,   1163,     52,     41,      3,   3059,    711,\n",
              "          167,    713,    423,     11,    141,   2965,      7,    538,\n",
              "         9822,      2,     35,      0,   2647,    294,  87618,    347,\n",
              "           53,      6,      1,     22,    391,   8944,     59,     75,\n",
              "         9187,   4656,   8777,     54,    208,    115,     96,    139,\n",
              "           87,     19,    373,    613,     58,   1083,   5532,   4652,\n",
              "          408,     51,     69,     34,    228,    329,  30212,     49,\n",
              "            8,     16,   9125,    168,    202,   1761,     45,     26,\n",
              "           20,    158,   1166,    596,     10,  33408,   4838,  15912,\n",
              "         4458,   1764,    474,  35112,    998,    585,    285,    185,\n",
              "          438,   1301,     31,     12,     72,     64,     80,    112,\n",
              "           91,     99,    124,     15,      9,    156,  44022,    748,\n",
              "            4,    316,     48,   6160,    108,    860,    466,    255,\n",
              "          393,   5842,   1322,     43,  18418,   1945,   1676,   1719,\n",
              "          165,   2206,  13334,      5,     42,     14,   2760,    194,\n",
              "          543,     66,     27,     28,    116,     93,   7067,    300,\n",
              "           46,  28432,    720,     24,   5700,   1978,     40,     60,\n",
              "           21,     18,     50,   5630, 148011,   1636,    345,  45844,\n",
              "          121,    146,     78,    483,    140,     36])"
            ]
          },
          "metadata": {},
          "execution_count": 16
        }
      ],
      "source": [
        "df['Deaths'].unique()"
      ]
    },
    {
      "cell_type": "code",
      "execution_count": null,
      "metadata": {
        "colab": {
          "base_uri": "https://localhost:8080/"
        },
        "id": "esMLoNdHNNzu",
        "outputId": "04baed6b-9a6a-4a70-f94c-d502d1796001"
      },
      "outputs": [
        {
          "output_type": "execute_result",
          "data": {
            "text/plain": [
              "150"
            ]
          },
          "metadata": {},
          "execution_count": 17
        }
      ],
      "source": [
        "len(df['Deaths'].unique())"
      ]
    },
    {
      "cell_type": "code",
      "execution_count": null,
      "metadata": {
        "colab": {
          "base_uri": "https://localhost:8080/"
        },
        "id": "S5RqkFc2NTS-",
        "outputId": "9e8f3e70-1e0d-4286-ceee-038be897ce2d"
      },
      "outputs": [
        {
          "output_type": "execute_result",
          "data": {
            "text/plain": [
              "array([  25198,    2745,   18837,     803,     242,      65,   72575,\n",
              "         26665,    9311,   18246,   23242,      91,   36110,  125683,\n",
              "            94,   60492,   17452,      26,    1036,      86,   21478,\n",
              "          4930,      63, 1846641,     138,    5585,     926,     292,\n",
              "           301,    1550,     147,   14539,       0,    1546,     810,\n",
              "        319954,   78869,  131161,     328,     829,    5700,    3824,\n",
              "         10361,    3936,    2351,     852,   11428,   12605,    4977,\n",
              "            18,   30204,   34896,   34838,    7778,     842,     191,\n",
              "          1923,    1025,    6386,    6920,   81212,    4682,      66,\n",
              "           922,  190314,   29801,    1374,      13,      23,   32455,\n",
              "          6257,     181,    4365,      12,    5039,    3329,    1823,\n",
              "        951166,   58173,  255144,   77144,   23364,   27133,  198593,\n",
              "           714,   21970,    1041,   54404,    7833,    4027,   55057,\n",
              "         21205,      19,    1045,    1709,     128,     646,     577,\n",
              "            81,    1620,    4825,    6260,    1645,    8601,    2547,\n",
              "          1913,     665,    4653,     332,  303810,   16154,     104,\n",
              "           222,     809,   16553,     101,   13754,     189,    1514,\n",
              "          2492,    1027,   18203,    5564,    8752,   57028,  241026,\n",
              "         35086,      11,    2905,  272547,   26446,   32856,   35375,\n",
              "        106328,   25794,  602249,     975,      15,      22,      39,\n",
              "           657,     734,  222936,    6477,    1317,   45692,    1616,\n",
              "          1733,    1543,  274925,   13007,    1175,  150376,    2121,\n",
              "          5939,     925,   30900,     440,    6028,     183,    3111,\n",
              "           607,    1157,  210469, 1325804,     986,   37202,   52510,\n",
              "          1437,     951,   11674,    9959,     365,    3752,       8,\n",
              "           833,    2815,     542])"
            ]
          },
          "metadata": {},
          "execution_count": 18
        }
      ],
      "source": [
        "df['Recovered'].unique()"
      ]
    },
    {
      "cell_type": "code",
      "execution_count": null,
      "metadata": {
        "colab": {
          "base_uri": "https://localhost:8080/"
        },
        "id": "R-tpGWi3Ni_j",
        "outputId": "6fffa383-e6c2-43c9-abb4-4b1ad288e1a6"
      },
      "outputs": [
        {
          "output_type": "execute_result",
          "data": {
            "text/plain": [
              "178"
            ]
          },
          "metadata": {},
          "execution_count": 19
        }
      ],
      "source": [
        "len(df['Recovered'].unique())"
      ]
    },
    {
      "cell_type": "code",
      "execution_count": null,
      "metadata": {
        "colab": {
          "base_uri": "https://localhost:8080/"
        },
        "id": "ld3KtVNTNmr6",
        "outputId": "b010173f-fa2a-4d7e-9c01-680439076708"
      },
      "outputs": [
        {
          "output_type": "execute_result",
          "data": {
            "text/plain": [
              "array([   9796,    1991,    7973,      52,     667,      18,   91782,\n",
              "         10014,    5825,    1599,    6781,     280,    3231,   97577,\n",
              "             9,    6221,   39154,      20,     699,      13,   47056,\n",
              "          5274,     674,  508116,       0,    4689,     121,      76,\n",
              "           756,      79,    2180,  107514,    2994,      37,   18782,\n",
              "          3258,  117163,      19,    2317,    2936,   11902,    5198,\n",
              "           806,      94,     189,    3715,     543,      24,   32869,\n",
              "         40733,   52992,    6849,    2178,      74,      42,    1257,\n",
              "          7933,     149,  108928,    2458,     252,     199,    7673,\n",
              "          3655,    2651,       1,   11093,     753,    1125,     188,\n",
              "          2817,   33536,     523,      21,  495499,   37292,   22550,\n",
              "         30983,     764,   36378,   12581,     129,    8174,     124,\n",
              "         29659,    9857,    3201,    8884,   10790,     143,    2122,\n",
              "           365,     449,    2186,       4,     319,    1384,    3339,\n",
              "          1920,     179,     807,     476,      27,    1399,       2,\n",
              "         47657,    6252,       8,      67,    2039,    4018,    1690,\n",
              "          1734,    4950,   47064,     839,      36,   22117,    4183,\n",
              "           125,   19637,   27421,   25034,      51,    1600,   98752,\n",
              "         53649,    8870,   13205,    3104,   17902,  201097,     899,\n",
              "           117,   43238,    3093,   23598,      75,     400,    5119,\n",
              "           537,     238,    1560,  170537,     896,    1084,   93613,\n",
              "           673,    4765,     534,   73695,     634,      15,    1147,\n",
              "           305,     128,     249,      12,     248,   10920, 2816444,\n",
              "           140,   28258,    6322,  254427,     216,    9414,    5883,\n",
              "            66,    6791,     375,    1597,    2126])"
            ]
          },
          "metadata": {},
          "execution_count": 20
        }
      ],
      "source": [
        "df['Active'].unique()"
      ]
    },
    {
      "cell_type": "code",
      "execution_count": null,
      "metadata": {
        "colab": {
          "base_uri": "https://localhost:8080/"
        },
        "id": "CmSID2hsN51Z",
        "outputId": "d454a877-18ea-4ed4-9a81-05d81bae51db"
      },
      "outputs": [
        {
          "output_type": "execute_result",
          "data": {
            "text/plain": [
              "173"
            ]
          },
          "metadata": {},
          "execution_count": 21
        }
      ],
      "source": [
        "len(df['Active'].unique())"
      ]
    },
    {
      "cell_type": "code",
      "execution_count": null,
      "metadata": {
        "colab": {
          "base_uri": "https://localhost:8080/"
        },
        "id": "0-WjHy9ON8y3",
        "outputId": "0c1083f5-f195-4cb6-fbe9-45b6681e5b9b"
      },
      "outputs": [
        {
          "output_type": "execute_result",
          "data": {
            "text/plain": [
              "array([  10,    6,    8,    0,    1,  120,   37,    4,   64,   14,  614,\n",
              "          7,   11,   75,  508,    3,    2,   20,   17,   46,    5,   27,\n",
              "         50,  637,   57,  212,   96,   16,   24,  342,   13,    9,   28,\n",
              "        575,   19,   85,  298, 1076])"
            ]
          },
          "metadata": {},
          "execution_count": 22
        }
      ],
      "source": [
        "df['New deaths'].unique()"
      ]
    },
    {
      "cell_type": "code",
      "execution_count": null,
      "metadata": {
        "colab": {
          "base_uri": "https://localhost:8080/"
        },
        "id": "CCDcwc9dOL-0",
        "outputId": "0a0d22ae-94dd-4873-a859-7efbfac22d43"
      },
      "outputs": [
        {
          "output_type": "execute_result",
          "data": {
            "text/plain": [
              "38"
            ]
          },
          "metadata": {},
          "execution_count": 23
        }
      ],
      "source": [
        "len(df['New deaths'].unique())"
      ]
    },
    {
      "cell_type": "code",
      "execution_count": null,
      "metadata": {
        "colab": {
          "base_uri": "https://localhost:8080/"
        },
        "id": "Yo_cM2RZOOJH",
        "outputId": "0151b3f4-c512-4f8b-80c1-1f19e55c0727"
      },
      "outputs": [
        {
          "output_type": "execute_result",
          "data": {
            "text/plain": [
              "array([  106,   117,   616,    10,    18,     4,  4890,    73,   368,\n",
              "          86,   396,    40,   351,  2772,     0,   119,   402,  1752,\n",
              "         731,    53, 23284,   194,    14,    17,    21,     1,   682,\n",
              "           7,  2133,   213, 16306,   162,    13,   612,    59,    24,\n",
              "          37,     3,   192,   109,     9,  1248,   467,   420,   405,\n",
              "           2,   579,     5,  2551,   205,    49,     6,   445,   655,\n",
              "          34,   256,    47,    19,    25,   465, 44457,  1525,  2434,\n",
              "        2553,    11,  2029,   168,   594,     8,  1526,   372,   496,\n",
              "         606,   483,   132,   158,   395,    67,  4973,   120,    94,\n",
              "         609,    32,    68,   139,   419,   648,   127,    15,  1053,\n",
              "        1176,  1146,   104, 13756,  1592,   337,   135,   292,  1104,\n",
              "        5607,    58,  1993,    83,   411,   469,  7096,    28,    43,\n",
              "          23,    39,    44,   398,    65,   919, 56336,   835,   264,\n",
              "         688,   678,   525,   152,    71])"
            ]
          },
          "metadata": {},
          "execution_count": 24
        }
      ],
      "source": [
        "df['New cases'].unique()"
      ]
    },
    {
      "cell_type": "code",
      "execution_count": null,
      "metadata": {
        "colab": {
          "base_uri": "https://localhost:8080/"
        },
        "id": "V1vuFsbzOW2F",
        "outputId": "ce27919a-34c1-4431-bbf7-3e353a751ad5"
      },
      "outputs": [
        {
          "output_type": "execute_result",
          "data": {
            "text/plain": [
              "122"
            ]
          },
          "metadata": {},
          "execution_count": 25
        }
      ],
      "source": [
        "len(df['New cases'].unique()\n",
        ")"
      ]
    },
    {
      "cell_type": "markdown",
      "metadata": {
        "id": "ZXmNRHN6U_Kg"
      },
      "source": [
        "##**4. Find NULL values**"
      ]
    },
    {
      "cell_type": "code",
      "execution_count": null,
      "metadata": {
        "colab": {
          "base_uri": "https://localhost:8080/"
        },
        "id": "nm1zkl1VOprh",
        "outputId": "cb8fd9e7-5fe6-41d3-fb82-2916b68bb96b"
      },
      "outputs": [
        {
          "output_type": "execute_result",
          "data": {
            "text/plain": [
              "Country/Region            0\n",
              "Confirmed                 0\n",
              "Deaths                    0\n",
              "Recovered                 0\n",
              "Active                    0\n",
              "New cases                 0\n",
              "New deaths                0\n",
              "New recovered             0\n",
              "Deaths / 100 Cases        0\n",
              "Recovered / 100 Cases     0\n",
              "Deaths / 100 Recovered    0\n",
              "Confirmed last week       0\n",
              "1 week change             0\n",
              "1 week % increase         0\n",
              "WHO Region                0\n",
              "dtype: int64"
            ]
          },
          "metadata": {},
          "execution_count": 26
        }
      ],
      "source": [
        "df.isnull().sum() ## It is good sign that no any column have null values-->> it means dataset is good enough"
      ]
    },
    {
      "cell_type": "code",
      "execution_count": null,
      "metadata": {
        "id": "TjVnwzpHVJ7c"
      },
      "outputs": [],
      "source": [
        "#df.replace(np.nan,'0',inplace = True)  we can use this if we have nan or null values in dataset "
      ]
    },
    {
      "cell_type": "markdown",
      "metadata": {
        "id": "nhGfRgx3ZGJ5"
      },
      "source": [
        "##**5. Filtering the dataset**"
      ]
    },
    {
      "cell_type": "code",
      "execution_count": null,
      "metadata": {
        "colab": {
          "base_uri": "https://localhost:8080/",
          "height": 302
        },
        "id": "ODgn9b41eREI",
        "outputId": "6cb91229-e228-435a-919f-28c9cd9ede7d"
      },
      "outputs": [
        {
          "output_type": "execute_result",
          "data": {
            "text/plain": [
              "  Country/Region  Confirmed  Deaths  Recovered  Active  New cases  New deaths  \\\n",
              "0    Afghanistan      36263    1269      25198    9796        106          10   \n",
              "1        Albania       4880     144       2745    1991        117           6   \n",
              "2        Algeria      27973    1163      18837    7973        616           8   \n",
              "3        Andorra        907      52        803      52         10           0   \n",
              "4         Angola        950      41        242     667         18           1   \n",
              "\n",
              "   New recovered  Deaths / 100 Cases  Recovered / 100 Cases  \\\n",
              "0             18                3.50                  69.49   \n",
              "1             63                2.95                  56.25   \n",
              "2            749                4.16                  67.34   \n",
              "3              0                5.73                  88.53   \n",
              "4              0                4.32                  25.47   \n",
              "\n",
              "   Deaths / 100 Recovered  Confirmed last week  1 week change  \\\n",
              "0                    5.04                35526            737   \n",
              "1                    5.25                 4171            709   \n",
              "2                    6.17                23691           4282   \n",
              "3                    6.48                  884             23   \n",
              "4                   16.94                  749            201   \n",
              "\n",
              "   1 week % increase             WHO Region  \n",
              "0               2.07  Eastern Mediterranean  \n",
              "1              17.00                 Europe  \n",
              "2              18.07                 Africa  \n",
              "3               2.60                 Europe  \n",
              "4              26.84                 Africa  "
            ],
            "text/html": [
              "\n",
              "  <div id=\"df-9da5fbf6-6fc1-4aea-8ff3-af269ade99a7\">\n",
              "    <div class=\"colab-df-container\">\n",
              "      <div>\n",
              "<style scoped>\n",
              "    .dataframe tbody tr th:only-of-type {\n",
              "        vertical-align: middle;\n",
              "    }\n",
              "\n",
              "    .dataframe tbody tr th {\n",
              "        vertical-align: top;\n",
              "    }\n",
              "\n",
              "    .dataframe thead th {\n",
              "        text-align: right;\n",
              "    }\n",
              "</style>\n",
              "<table border=\"1\" class=\"dataframe\">\n",
              "  <thead>\n",
              "    <tr style=\"text-align: right;\">\n",
              "      <th></th>\n",
              "      <th>Country/Region</th>\n",
              "      <th>Confirmed</th>\n",
              "      <th>Deaths</th>\n",
              "      <th>Recovered</th>\n",
              "      <th>Active</th>\n",
              "      <th>New cases</th>\n",
              "      <th>New deaths</th>\n",
              "      <th>New recovered</th>\n",
              "      <th>Deaths / 100 Cases</th>\n",
              "      <th>Recovered / 100 Cases</th>\n",
              "      <th>Deaths / 100 Recovered</th>\n",
              "      <th>Confirmed last week</th>\n",
              "      <th>1 week change</th>\n",
              "      <th>1 week % increase</th>\n",
              "      <th>WHO Region</th>\n",
              "    </tr>\n",
              "  </thead>\n",
              "  <tbody>\n",
              "    <tr>\n",
              "      <th>0</th>\n",
              "      <td>Afghanistan</td>\n",
              "      <td>36263</td>\n",
              "      <td>1269</td>\n",
              "      <td>25198</td>\n",
              "      <td>9796</td>\n",
              "      <td>106</td>\n",
              "      <td>10</td>\n",
              "      <td>18</td>\n",
              "      <td>3.50</td>\n",
              "      <td>69.49</td>\n",
              "      <td>5.04</td>\n",
              "      <td>35526</td>\n",
              "      <td>737</td>\n",
              "      <td>2.07</td>\n",
              "      <td>Eastern Mediterranean</td>\n",
              "    </tr>\n",
              "    <tr>\n",
              "      <th>1</th>\n",
              "      <td>Albania</td>\n",
              "      <td>4880</td>\n",
              "      <td>144</td>\n",
              "      <td>2745</td>\n",
              "      <td>1991</td>\n",
              "      <td>117</td>\n",
              "      <td>6</td>\n",
              "      <td>63</td>\n",
              "      <td>2.95</td>\n",
              "      <td>56.25</td>\n",
              "      <td>5.25</td>\n",
              "      <td>4171</td>\n",
              "      <td>709</td>\n",
              "      <td>17.00</td>\n",
              "      <td>Europe</td>\n",
              "    </tr>\n",
              "    <tr>\n",
              "      <th>2</th>\n",
              "      <td>Algeria</td>\n",
              "      <td>27973</td>\n",
              "      <td>1163</td>\n",
              "      <td>18837</td>\n",
              "      <td>7973</td>\n",
              "      <td>616</td>\n",
              "      <td>8</td>\n",
              "      <td>749</td>\n",
              "      <td>4.16</td>\n",
              "      <td>67.34</td>\n",
              "      <td>6.17</td>\n",
              "      <td>23691</td>\n",
              "      <td>4282</td>\n",
              "      <td>18.07</td>\n",
              "      <td>Africa</td>\n",
              "    </tr>\n",
              "    <tr>\n",
              "      <th>3</th>\n",
              "      <td>Andorra</td>\n",
              "      <td>907</td>\n",
              "      <td>52</td>\n",
              "      <td>803</td>\n",
              "      <td>52</td>\n",
              "      <td>10</td>\n",
              "      <td>0</td>\n",
              "      <td>0</td>\n",
              "      <td>5.73</td>\n",
              "      <td>88.53</td>\n",
              "      <td>6.48</td>\n",
              "      <td>884</td>\n",
              "      <td>23</td>\n",
              "      <td>2.60</td>\n",
              "      <td>Europe</td>\n",
              "    </tr>\n",
              "    <tr>\n",
              "      <th>4</th>\n",
              "      <td>Angola</td>\n",
              "      <td>950</td>\n",
              "      <td>41</td>\n",
              "      <td>242</td>\n",
              "      <td>667</td>\n",
              "      <td>18</td>\n",
              "      <td>1</td>\n",
              "      <td>0</td>\n",
              "      <td>4.32</td>\n",
              "      <td>25.47</td>\n",
              "      <td>16.94</td>\n",
              "      <td>749</td>\n",
              "      <td>201</td>\n",
              "      <td>26.84</td>\n",
              "      <td>Africa</td>\n",
              "    </tr>\n",
              "  </tbody>\n",
              "</table>\n",
              "</div>\n",
              "      <button class=\"colab-df-convert\" onclick=\"convertToInteractive('df-9da5fbf6-6fc1-4aea-8ff3-af269ade99a7')\"\n",
              "              title=\"Convert this dataframe to an interactive table.\"\n",
              "              style=\"display:none;\">\n",
              "        \n",
              "  <svg xmlns=\"http://www.w3.org/2000/svg\" height=\"24px\"viewBox=\"0 0 24 24\"\n",
              "       width=\"24px\">\n",
              "    <path d=\"M0 0h24v24H0V0z\" fill=\"none\"/>\n",
              "    <path d=\"M18.56 5.44l.94 2.06.94-2.06 2.06-.94-2.06-.94-.94-2.06-.94 2.06-2.06.94zm-11 1L8.5 8.5l.94-2.06 2.06-.94-2.06-.94L8.5 2.5l-.94 2.06-2.06.94zm10 10l.94 2.06.94-2.06 2.06-.94-2.06-.94-.94-2.06-.94 2.06-2.06.94z\"/><path d=\"M17.41 7.96l-1.37-1.37c-.4-.4-.92-.59-1.43-.59-.52 0-1.04.2-1.43.59L10.3 9.45l-7.72 7.72c-.78.78-.78 2.05 0 2.83L4 21.41c.39.39.9.59 1.41.59.51 0 1.02-.2 1.41-.59l7.78-7.78 2.81-2.81c.8-.78.8-2.07 0-2.86zM5.41 20L4 18.59l7.72-7.72 1.47 1.35L5.41 20z\"/>\n",
              "  </svg>\n",
              "      </button>\n",
              "      \n",
              "  <style>\n",
              "    .colab-df-container {\n",
              "      display:flex;\n",
              "      flex-wrap:wrap;\n",
              "      gap: 12px;\n",
              "    }\n",
              "\n",
              "    .colab-df-convert {\n",
              "      background-color: #E8F0FE;\n",
              "      border: none;\n",
              "      border-radius: 50%;\n",
              "      cursor: pointer;\n",
              "      display: none;\n",
              "      fill: #1967D2;\n",
              "      height: 32px;\n",
              "      padding: 0 0 0 0;\n",
              "      width: 32px;\n",
              "    }\n",
              "\n",
              "    .colab-df-convert:hover {\n",
              "      background-color: #E2EBFA;\n",
              "      box-shadow: 0px 1px 2px rgba(60, 64, 67, 0.3), 0px 1px 3px 1px rgba(60, 64, 67, 0.15);\n",
              "      fill: #174EA6;\n",
              "    }\n",
              "\n",
              "    [theme=dark] .colab-df-convert {\n",
              "      background-color: #3B4455;\n",
              "      fill: #D2E3FC;\n",
              "    }\n",
              "\n",
              "    [theme=dark] .colab-df-convert:hover {\n",
              "      background-color: #434B5C;\n",
              "      box-shadow: 0px 1px 3px 1px rgba(0, 0, 0, 0.15);\n",
              "      filter: drop-shadow(0px 1px 2px rgba(0, 0, 0, 0.3));\n",
              "      fill: #FFFFFF;\n",
              "    }\n",
              "  </style>\n",
              "\n",
              "      <script>\n",
              "        const buttonEl =\n",
              "          document.querySelector('#df-9da5fbf6-6fc1-4aea-8ff3-af269ade99a7 button.colab-df-convert');\n",
              "        buttonEl.style.display =\n",
              "          google.colab.kernel.accessAllowed ? 'block' : 'none';\n",
              "\n",
              "        async function convertToInteractive(key) {\n",
              "          const element = document.querySelector('#df-9da5fbf6-6fc1-4aea-8ff3-af269ade99a7');\n",
              "          const dataTable =\n",
              "            await google.colab.kernel.invokeFunction('convertToInteractive',\n",
              "                                                     [key], {});\n",
              "          if (!dataTable) return;\n",
              "\n",
              "          const docLinkHtml = 'Like what you see? Visit the ' +\n",
              "            '<a target=\"_blank\" href=https://colab.research.google.com/notebooks/data_table.ipynb>data table notebook</a>'\n",
              "            + ' to learn more about interactive tables.';\n",
              "          element.innerHTML = '';\n",
              "          dataTable['output_type'] = 'display_data';\n",
              "          await google.colab.output.renderOutput(dataTable, element);\n",
              "          const docLink = document.createElement('div');\n",
              "          docLink.innerHTML = docLinkHtml;\n",
              "          element.appendChild(docLink);\n",
              "        }\n",
              "      </script>\n",
              "    </div>\n",
              "  </div>\n",
              "  "
            ]
          },
          "metadata": {},
          "execution_count": 28
        }
      ],
      "source": [
        "df.head()"
      ]
    },
    {
      "cell_type": "code",
      "execution_count": null,
      "metadata": {
        "colab": {
          "base_uri": "https://localhost:8080/"
        },
        "id": "ttLFNcLGeS_K",
        "outputId": "668d1b72-c9b5-496e-d7cc-357a6d859c5c"
      },
      "outputs": [
        {
          "output_type": "execute_result",
          "data": {
            "text/plain": [
              "Country/Region                   Zimbabwe\n",
              "Confirmed                         4290259\n",
              "Deaths                             148011\n",
              "Recovered                         1846641\n",
              "Active                            2816444\n",
              "New cases                           56336\n",
              "New deaths                           1076\n",
              "New recovered                       33728\n",
              "Deaths / 100 Cases                  28.56\n",
              "Recovered / 100 Cases               100.0\n",
              "Deaths / 100 Recovered                inf\n",
              "Confirmed last week               3834677\n",
              "1 week change                      455582\n",
              "1 week % increase                  226.32\n",
              "WHO Region                Western Pacific\n",
              "dtype: object"
            ]
          },
          "metadata": {},
          "execution_count": 29
        }
      ],
      "source": [
        "df.max()"
      ]
    },
    {
      "cell_type": "code",
      "execution_count": null,
      "metadata": {
        "colab": {
          "base_uri": "https://localhost:8080/",
          "height": 159
        },
        "id": "yzNtL9LZf2iC",
        "outputId": "77aebda6-cc20-45d0-bde4-416cdbc412c9"
      },
      "outputs": [
        {
          "output_type": "execute_result",
          "data": {
            "text/plain": [
              "    Country/Region  Confirmed  Deaths  Recovered   Active  New cases  \\\n",
              "173             US    4290259  148011    1325804  2816444      56336   \n",
              "\n",
              "     New deaths  New recovered  Deaths / 100 Cases  Recovered / 100 Cases  \\\n",
              "173        1076          27941                3.45                   30.9   \n",
              "\n",
              "     Deaths / 100 Recovered  Confirmed last week  1 week change  \\\n",
              "173                   11.16              3834677         455582   \n",
              "\n",
              "     1 week % increase WHO Region  \n",
              "173              11.88   Americas  "
            ],
            "text/html": [
              "\n",
              "  <div id=\"df-a4c06c28-2336-4a6f-af69-5c5326861cc3\">\n",
              "    <div class=\"colab-df-container\">\n",
              "      <div>\n",
              "<style scoped>\n",
              "    .dataframe tbody tr th:only-of-type {\n",
              "        vertical-align: middle;\n",
              "    }\n",
              "\n",
              "    .dataframe tbody tr th {\n",
              "        vertical-align: top;\n",
              "    }\n",
              "\n",
              "    .dataframe thead th {\n",
              "        text-align: right;\n",
              "    }\n",
              "</style>\n",
              "<table border=\"1\" class=\"dataframe\">\n",
              "  <thead>\n",
              "    <tr style=\"text-align: right;\">\n",
              "      <th></th>\n",
              "      <th>Country/Region</th>\n",
              "      <th>Confirmed</th>\n",
              "      <th>Deaths</th>\n",
              "      <th>Recovered</th>\n",
              "      <th>Active</th>\n",
              "      <th>New cases</th>\n",
              "      <th>New deaths</th>\n",
              "      <th>New recovered</th>\n",
              "      <th>Deaths / 100 Cases</th>\n",
              "      <th>Recovered / 100 Cases</th>\n",
              "      <th>Deaths / 100 Recovered</th>\n",
              "      <th>Confirmed last week</th>\n",
              "      <th>1 week change</th>\n",
              "      <th>1 week % increase</th>\n",
              "      <th>WHO Region</th>\n",
              "    </tr>\n",
              "  </thead>\n",
              "  <tbody>\n",
              "    <tr>\n",
              "      <th>173</th>\n",
              "      <td>US</td>\n",
              "      <td>4290259</td>\n",
              "      <td>148011</td>\n",
              "      <td>1325804</td>\n",
              "      <td>2816444</td>\n",
              "      <td>56336</td>\n",
              "      <td>1076</td>\n",
              "      <td>27941</td>\n",
              "      <td>3.45</td>\n",
              "      <td>30.9</td>\n",
              "      <td>11.16</td>\n",
              "      <td>3834677</td>\n",
              "      <td>455582</td>\n",
              "      <td>11.88</td>\n",
              "      <td>Americas</td>\n",
              "    </tr>\n",
              "  </tbody>\n",
              "</table>\n",
              "</div>\n",
              "      <button class=\"colab-df-convert\" onclick=\"convertToInteractive('df-a4c06c28-2336-4a6f-af69-5c5326861cc3')\"\n",
              "              title=\"Convert this dataframe to an interactive table.\"\n",
              "              style=\"display:none;\">\n",
              "        \n",
              "  <svg xmlns=\"http://www.w3.org/2000/svg\" height=\"24px\"viewBox=\"0 0 24 24\"\n",
              "       width=\"24px\">\n",
              "    <path d=\"M0 0h24v24H0V0z\" fill=\"none\"/>\n",
              "    <path d=\"M18.56 5.44l.94 2.06.94-2.06 2.06-.94-2.06-.94-.94-2.06-.94 2.06-2.06.94zm-11 1L8.5 8.5l.94-2.06 2.06-.94-2.06-.94L8.5 2.5l-.94 2.06-2.06.94zm10 10l.94 2.06.94-2.06 2.06-.94-2.06-.94-.94-2.06-.94 2.06-2.06.94z\"/><path d=\"M17.41 7.96l-1.37-1.37c-.4-.4-.92-.59-1.43-.59-.52 0-1.04.2-1.43.59L10.3 9.45l-7.72 7.72c-.78.78-.78 2.05 0 2.83L4 21.41c.39.39.9.59 1.41.59.51 0 1.02-.2 1.41-.59l7.78-7.78 2.81-2.81c.8-.78.8-2.07 0-2.86zM5.41 20L4 18.59l7.72-7.72 1.47 1.35L5.41 20z\"/>\n",
              "  </svg>\n",
              "      </button>\n",
              "      \n",
              "  <style>\n",
              "    .colab-df-container {\n",
              "      display:flex;\n",
              "      flex-wrap:wrap;\n",
              "      gap: 12px;\n",
              "    }\n",
              "\n",
              "    .colab-df-convert {\n",
              "      background-color: #E8F0FE;\n",
              "      border: none;\n",
              "      border-radius: 50%;\n",
              "      cursor: pointer;\n",
              "      display: none;\n",
              "      fill: #1967D2;\n",
              "      height: 32px;\n",
              "      padding: 0 0 0 0;\n",
              "      width: 32px;\n",
              "    }\n",
              "\n",
              "    .colab-df-convert:hover {\n",
              "      background-color: #E2EBFA;\n",
              "      box-shadow: 0px 1px 2px rgba(60, 64, 67, 0.3), 0px 1px 3px 1px rgba(60, 64, 67, 0.15);\n",
              "      fill: #174EA6;\n",
              "    }\n",
              "\n",
              "    [theme=dark] .colab-df-convert {\n",
              "      background-color: #3B4455;\n",
              "      fill: #D2E3FC;\n",
              "    }\n",
              "\n",
              "    [theme=dark] .colab-df-convert:hover {\n",
              "      background-color: #434B5C;\n",
              "      box-shadow: 0px 1px 3px 1px rgba(0, 0, 0, 0.15);\n",
              "      filter: drop-shadow(0px 1px 2px rgba(0, 0, 0, 0.3));\n",
              "      fill: #FFFFFF;\n",
              "    }\n",
              "  </style>\n",
              "\n",
              "      <script>\n",
              "        const buttonEl =\n",
              "          document.querySelector('#df-a4c06c28-2336-4a6f-af69-5c5326861cc3 button.colab-df-convert');\n",
              "        buttonEl.style.display =\n",
              "          google.colab.kernel.accessAllowed ? 'block' : 'none';\n",
              "\n",
              "        async function convertToInteractive(key) {\n",
              "          const element = document.querySelector('#df-a4c06c28-2336-4a6f-af69-5c5326861cc3');\n",
              "          const dataTable =\n",
              "            await google.colab.kernel.invokeFunction('convertToInteractive',\n",
              "                                                     [key], {});\n",
              "          if (!dataTable) return;\n",
              "\n",
              "          const docLinkHtml = 'Like what you see? Visit the ' +\n",
              "            '<a target=\"_blank\" href=https://colab.research.google.com/notebooks/data_table.ipynb>data table notebook</a>'\n",
              "            + ' to learn more about interactive tables.';\n",
              "          element.innerHTML = '';\n",
              "          dataTable['output_type'] = 'display_data';\n",
              "          await google.colab.output.renderOutput(dataTable, element);\n",
              "          const docLink = document.createElement('div');\n",
              "          docLink.innerHTML = docLinkHtml;\n",
              "          element.appendChild(docLink);\n",
              "        }\n",
              "      </script>\n",
              "    </div>\n",
              "  </div>\n",
              "  "
            ]
          },
          "metadata": {},
          "execution_count": 30
        }
      ],
      "source": [
        "df[df['Deaths'] ==max(df['Deaths'])].head() # Return maximum deaths found "
      ]
    },
    {
      "cell_type": "code",
      "execution_count": null,
      "metadata": {
        "colab": {
          "base_uri": "https://localhost:8080/"
        },
        "id": "kMC744ilgsD8",
        "outputId": "c029abc4-20df-4319-e4a3-fcd1dd91e90c"
      },
      "outputs": [
        {
          "output_type": "stream",
          "name": "stderr",
          "text": [
            "/usr/local/lib/python3.7/dist-packages/ipykernel_launcher.py:1: FutureWarning: Dropping of nuisance columns in DataFrame reductions (with 'numeric_only=None') is deprecated; in a future version this will raise TypeError.  Select only valid columns before calling the reduction.\n",
            "  \"\"\"Entry point for launching an IPython kernel.\n"
          ]
        },
        {
          "output_type": "execute_result",
          "data": {
            "text/plain": [
              "0    36263.0\n",
              "1     4880.0\n",
              "2    27973.0\n",
              "3      907.0\n",
              "4      950.0\n",
              "dtype: float64"
            ]
          },
          "metadata": {},
          "execution_count": 31
        }
      ],
      "source": [
        "df.max(axis = 1).head() # use to find maximum of each row\n"
      ]
    },
    {
      "cell_type": "code",
      "execution_count": null,
      "metadata": {
        "colab": {
          "base_uri": "https://localhost:8080/"
        },
        "id": "T9NNLQ7LhYfj",
        "outputId": "024099e5-c931-4210-f16f-b0f2252d990a"
      },
      "outputs": [
        {
          "output_type": "stream",
          "name": "stderr",
          "text": [
            "/usr/local/lib/python3.7/dist-packages/ipykernel_launcher.py:1: FutureWarning: Dropping of nuisance columns in DataFrame reductions (with 'numeric_only=None') is deprecated; in a future version this will raise TypeError.  Select only valid columns before calling the reduction.\n",
            "  \"\"\"Entry point for launching an IPython kernel.\n"
          ]
        },
        {
          "output_type": "execute_result",
          "data": {
            "text/plain": [
              "Confirmed                 8.813094e+04\n",
              "Deaths                    3.497519e+03\n",
              "Recovered                 5.063148e+04\n",
              "Active                    3.400194e+04\n",
              "New cases                 1.222957e+03\n",
              "New deaths                2.895722e+01\n",
              "New recovered             9.338128e+02\n",
              "Deaths / 100 Cases        3.019519e+00\n",
              "Recovered / 100 Cases     6.482053e+01\n",
              "Deaths / 100 Recovered             inf\n",
              "Confirmed last week       7.868248e+04\n",
              "1 week change             9.448460e+03\n",
              "1 week % increase         1.360620e+01\n",
              "dtype: float64"
            ]
          },
          "metadata": {},
          "execution_count": 32
        }
      ],
      "source": [
        "df.mean()"
      ]
    },
    {
      "cell_type": "markdown",
      "metadata": {
        "id": "KGsmPAivS8EY"
      },
      "source": [
        "##**Correlation**"
      ]
    },
    {
      "cell_type": "code",
      "execution_count": null,
      "metadata": {
        "colab": {
          "base_uri": "https://localhost:8080/",
          "height": 657
        },
        "id": "CvoZaSqjSJfY",
        "outputId": "ef356c07-05dc-4e15-c365-a3dafaf21f8c"
      },
      "outputs": [
        {
          "output_type": "execute_result",
          "data": {
            "text/plain": [
              "                        Confirmed    Deaths  Recovered    Active  New cases  \\\n",
              "Confirmed                1.000000  0.934698   0.906377  0.927018   0.909720   \n",
              "Deaths                   0.934698  1.000000   0.832098  0.871586   0.806975   \n",
              "Recovered                0.906377  0.832098   1.000000  0.682103   0.818942   \n",
              "Active                   0.927018  0.871586   0.682103  1.000000   0.851190   \n",
              "New cases                0.909720  0.806975   0.818942  0.851190   1.000000   \n",
              "New deaths               0.871683  0.814161   0.820338  0.781123   0.935947   \n",
              "New recovered            0.859252  0.765114   0.919203  0.673887   0.914765   \n",
              "Deaths / 100 Cases       0.063550  0.251565   0.048438  0.054380   0.020104   \n",
              "Recovered / 100 Cases   -0.064815 -0.114529   0.026610 -0.132618  -0.078666   \n",
              "Deaths / 100 Recovered   0.025175  0.169006  -0.027277  0.058386  -0.011637   \n",
              "Confirmed last week      0.999127  0.939082   0.899312  0.931459   0.896084   \n",
              "1 week change            0.954710  0.855330   0.910013  0.847642   0.959993   \n",
              "1 week % increase       -0.010161 -0.034708  -0.013697 -0.003752   0.030791   \n",
              "\n",
              "                        New deaths  New recovered  Deaths / 100 Cases  \\\n",
              "Confirmed                 0.871683       0.859252            0.063550   \n",
              "Deaths                    0.814161       0.765114            0.251565   \n",
              "Recovered                 0.820338       0.919203            0.048438   \n",
              "Active                    0.781123       0.673887            0.054380   \n",
              "New cases                 0.935947       0.914765            0.020104   \n",
              "New deaths                1.000000       0.889234            0.060399   \n",
              "New recovered             0.889234       1.000000            0.017090   \n",
              "Deaths / 100 Cases        0.060399       0.017090            1.000000   \n",
              "Recovered / 100 Cases    -0.062792      -0.024293           -0.168920   \n",
              "Deaths / 100 Recovered   -0.020750      -0.023340            0.334594   \n",
              "Confirmed last week       0.862118       0.839692            0.069894   \n",
              "1 week change             0.894915       0.954321            0.015095   \n",
              "1 week % increase         0.025293       0.032662           -0.134534   \n",
              "\n",
              "                        Recovered / 100 Cases  Deaths / 100 Recovered  \\\n",
              "Confirmed                           -0.064815                0.025175   \n",
              "Deaths                              -0.114529                0.169006   \n",
              "Recovered                            0.026610               -0.027277   \n",
              "Active                              -0.132618                0.058386   \n",
              "New cases                           -0.078666               -0.011637   \n",
              "New deaths                          -0.062792               -0.020750   \n",
              "New recovered                       -0.024293               -0.023340   \n",
              "Deaths / 100 Cases                  -0.168920                0.334594   \n",
              "Recovered / 100 Cases                1.000000               -0.295381   \n",
              "Deaths / 100 Recovered              -0.295381                1.000000   \n",
              "Confirmed last week                 -0.064600                0.030460   \n",
              "1 week change                       -0.063013               -0.013763   \n",
              "1 week % increase                   -0.394254               -0.049083   \n",
              "\n",
              "                        Confirmed last week  1 week change  1 week % increase  \n",
              "Confirmed                          0.999127       0.954710          -0.010161  \n",
              "Deaths                             0.939082       0.855330          -0.034708  \n",
              "Recovered                          0.899312       0.910013          -0.013697  \n",
              "Active                             0.931459       0.847642          -0.003752  \n",
              "New cases                          0.896084       0.959993           0.030791  \n",
              "New deaths                         0.862118       0.894915           0.025293  \n",
              "New recovered                      0.839692       0.954321           0.032662  \n",
              "Deaths / 100 Cases                 0.069894       0.015095          -0.134534  \n",
              "Recovered / 100 Cases             -0.064600      -0.063013          -0.394254  \n",
              "Deaths / 100 Recovered             0.030460      -0.013763          -0.049083  \n",
              "Confirmed last week                1.000000       0.941448          -0.015247  \n",
              "1 week change                      0.941448       1.000000           0.026594  \n",
              "1 week % increase                 -0.015247       0.026594           1.000000  "
            ],
            "text/html": [
              "\n",
              "  <div id=\"df-6fd17abf-e44e-4d90-b252-4102724d690a\">\n",
              "    <div class=\"colab-df-container\">\n",
              "      <div>\n",
              "<style scoped>\n",
              "    .dataframe tbody tr th:only-of-type {\n",
              "        vertical-align: middle;\n",
              "    }\n",
              "\n",
              "    .dataframe tbody tr th {\n",
              "        vertical-align: top;\n",
              "    }\n",
              "\n",
              "    .dataframe thead th {\n",
              "        text-align: right;\n",
              "    }\n",
              "</style>\n",
              "<table border=\"1\" class=\"dataframe\">\n",
              "  <thead>\n",
              "    <tr style=\"text-align: right;\">\n",
              "      <th></th>\n",
              "      <th>Confirmed</th>\n",
              "      <th>Deaths</th>\n",
              "      <th>Recovered</th>\n",
              "      <th>Active</th>\n",
              "      <th>New cases</th>\n",
              "      <th>New deaths</th>\n",
              "      <th>New recovered</th>\n",
              "      <th>Deaths / 100 Cases</th>\n",
              "      <th>Recovered / 100 Cases</th>\n",
              "      <th>Deaths / 100 Recovered</th>\n",
              "      <th>Confirmed last week</th>\n",
              "      <th>1 week change</th>\n",
              "      <th>1 week % increase</th>\n",
              "    </tr>\n",
              "  </thead>\n",
              "  <tbody>\n",
              "    <tr>\n",
              "      <th>Confirmed</th>\n",
              "      <td>1.000000</td>\n",
              "      <td>0.934698</td>\n",
              "      <td>0.906377</td>\n",
              "      <td>0.927018</td>\n",
              "      <td>0.909720</td>\n",
              "      <td>0.871683</td>\n",
              "      <td>0.859252</td>\n",
              "      <td>0.063550</td>\n",
              "      <td>-0.064815</td>\n",
              "      <td>0.025175</td>\n",
              "      <td>0.999127</td>\n",
              "      <td>0.954710</td>\n",
              "      <td>-0.010161</td>\n",
              "    </tr>\n",
              "    <tr>\n",
              "      <th>Deaths</th>\n",
              "      <td>0.934698</td>\n",
              "      <td>1.000000</td>\n",
              "      <td>0.832098</td>\n",
              "      <td>0.871586</td>\n",
              "      <td>0.806975</td>\n",
              "      <td>0.814161</td>\n",
              "      <td>0.765114</td>\n",
              "      <td>0.251565</td>\n",
              "      <td>-0.114529</td>\n",
              "      <td>0.169006</td>\n",
              "      <td>0.939082</td>\n",
              "      <td>0.855330</td>\n",
              "      <td>-0.034708</td>\n",
              "    </tr>\n",
              "    <tr>\n",
              "      <th>Recovered</th>\n",
              "      <td>0.906377</td>\n",
              "      <td>0.832098</td>\n",
              "      <td>1.000000</td>\n",
              "      <td>0.682103</td>\n",
              "      <td>0.818942</td>\n",
              "      <td>0.820338</td>\n",
              "      <td>0.919203</td>\n",
              "      <td>0.048438</td>\n",
              "      <td>0.026610</td>\n",
              "      <td>-0.027277</td>\n",
              "      <td>0.899312</td>\n",
              "      <td>0.910013</td>\n",
              "      <td>-0.013697</td>\n",
              "    </tr>\n",
              "    <tr>\n",
              "      <th>Active</th>\n",
              "      <td>0.927018</td>\n",
              "      <td>0.871586</td>\n",
              "      <td>0.682103</td>\n",
              "      <td>1.000000</td>\n",
              "      <td>0.851190</td>\n",
              "      <td>0.781123</td>\n",
              "      <td>0.673887</td>\n",
              "      <td>0.054380</td>\n",
              "      <td>-0.132618</td>\n",
              "      <td>0.058386</td>\n",
              "      <td>0.931459</td>\n",
              "      <td>0.847642</td>\n",
              "      <td>-0.003752</td>\n",
              "    </tr>\n",
              "    <tr>\n",
              "      <th>New cases</th>\n",
              "      <td>0.909720</td>\n",
              "      <td>0.806975</td>\n",
              "      <td>0.818942</td>\n",
              "      <td>0.851190</td>\n",
              "      <td>1.000000</td>\n",
              "      <td>0.935947</td>\n",
              "      <td>0.914765</td>\n",
              "      <td>0.020104</td>\n",
              "      <td>-0.078666</td>\n",
              "      <td>-0.011637</td>\n",
              "      <td>0.896084</td>\n",
              "      <td>0.959993</td>\n",
              "      <td>0.030791</td>\n",
              "    </tr>\n",
              "    <tr>\n",
              "      <th>New deaths</th>\n",
              "      <td>0.871683</td>\n",
              "      <td>0.814161</td>\n",
              "      <td>0.820338</td>\n",
              "      <td>0.781123</td>\n",
              "      <td>0.935947</td>\n",
              "      <td>1.000000</td>\n",
              "      <td>0.889234</td>\n",
              "      <td>0.060399</td>\n",
              "      <td>-0.062792</td>\n",
              "      <td>-0.020750</td>\n",
              "      <td>0.862118</td>\n",
              "      <td>0.894915</td>\n",
              "      <td>0.025293</td>\n",
              "    </tr>\n",
              "    <tr>\n",
              "      <th>New recovered</th>\n",
              "      <td>0.859252</td>\n",
              "      <td>0.765114</td>\n",
              "      <td>0.919203</td>\n",
              "      <td>0.673887</td>\n",
              "      <td>0.914765</td>\n",
              "      <td>0.889234</td>\n",
              "      <td>1.000000</td>\n",
              "      <td>0.017090</td>\n",
              "      <td>-0.024293</td>\n",
              "      <td>-0.023340</td>\n",
              "      <td>0.839692</td>\n",
              "      <td>0.954321</td>\n",
              "      <td>0.032662</td>\n",
              "    </tr>\n",
              "    <tr>\n",
              "      <th>Deaths / 100 Cases</th>\n",
              "      <td>0.063550</td>\n",
              "      <td>0.251565</td>\n",
              "      <td>0.048438</td>\n",
              "      <td>0.054380</td>\n",
              "      <td>0.020104</td>\n",
              "      <td>0.060399</td>\n",
              "      <td>0.017090</td>\n",
              "      <td>1.000000</td>\n",
              "      <td>-0.168920</td>\n",
              "      <td>0.334594</td>\n",
              "      <td>0.069894</td>\n",
              "      <td>0.015095</td>\n",
              "      <td>-0.134534</td>\n",
              "    </tr>\n",
              "    <tr>\n",
              "      <th>Recovered / 100 Cases</th>\n",
              "      <td>-0.064815</td>\n",
              "      <td>-0.114529</td>\n",
              "      <td>0.026610</td>\n",
              "      <td>-0.132618</td>\n",
              "      <td>-0.078666</td>\n",
              "      <td>-0.062792</td>\n",
              "      <td>-0.024293</td>\n",
              "      <td>-0.168920</td>\n",
              "      <td>1.000000</td>\n",
              "      <td>-0.295381</td>\n",
              "      <td>-0.064600</td>\n",
              "      <td>-0.063013</td>\n",
              "      <td>-0.394254</td>\n",
              "    </tr>\n",
              "    <tr>\n",
              "      <th>Deaths / 100 Recovered</th>\n",
              "      <td>0.025175</td>\n",
              "      <td>0.169006</td>\n",
              "      <td>-0.027277</td>\n",
              "      <td>0.058386</td>\n",
              "      <td>-0.011637</td>\n",
              "      <td>-0.020750</td>\n",
              "      <td>-0.023340</td>\n",
              "      <td>0.334594</td>\n",
              "      <td>-0.295381</td>\n",
              "      <td>1.000000</td>\n",
              "      <td>0.030460</td>\n",
              "      <td>-0.013763</td>\n",
              "      <td>-0.049083</td>\n",
              "    </tr>\n",
              "    <tr>\n",
              "      <th>Confirmed last week</th>\n",
              "      <td>0.999127</td>\n",
              "      <td>0.939082</td>\n",
              "      <td>0.899312</td>\n",
              "      <td>0.931459</td>\n",
              "      <td>0.896084</td>\n",
              "      <td>0.862118</td>\n",
              "      <td>0.839692</td>\n",
              "      <td>0.069894</td>\n",
              "      <td>-0.064600</td>\n",
              "      <td>0.030460</td>\n",
              "      <td>1.000000</td>\n",
              "      <td>0.941448</td>\n",
              "      <td>-0.015247</td>\n",
              "    </tr>\n",
              "    <tr>\n",
              "      <th>1 week change</th>\n",
              "      <td>0.954710</td>\n",
              "      <td>0.855330</td>\n",
              "      <td>0.910013</td>\n",
              "      <td>0.847642</td>\n",
              "      <td>0.959993</td>\n",
              "      <td>0.894915</td>\n",
              "      <td>0.954321</td>\n",
              "      <td>0.015095</td>\n",
              "      <td>-0.063013</td>\n",
              "      <td>-0.013763</td>\n",
              "      <td>0.941448</td>\n",
              "      <td>1.000000</td>\n",
              "      <td>0.026594</td>\n",
              "    </tr>\n",
              "    <tr>\n",
              "      <th>1 week % increase</th>\n",
              "      <td>-0.010161</td>\n",
              "      <td>-0.034708</td>\n",
              "      <td>-0.013697</td>\n",
              "      <td>-0.003752</td>\n",
              "      <td>0.030791</td>\n",
              "      <td>0.025293</td>\n",
              "      <td>0.032662</td>\n",
              "      <td>-0.134534</td>\n",
              "      <td>-0.394254</td>\n",
              "      <td>-0.049083</td>\n",
              "      <td>-0.015247</td>\n",
              "      <td>0.026594</td>\n",
              "      <td>1.000000</td>\n",
              "    </tr>\n",
              "  </tbody>\n",
              "</table>\n",
              "</div>\n",
              "      <button class=\"colab-df-convert\" onclick=\"convertToInteractive('df-6fd17abf-e44e-4d90-b252-4102724d690a')\"\n",
              "              title=\"Convert this dataframe to an interactive table.\"\n",
              "              style=\"display:none;\">\n",
              "        \n",
              "  <svg xmlns=\"http://www.w3.org/2000/svg\" height=\"24px\"viewBox=\"0 0 24 24\"\n",
              "       width=\"24px\">\n",
              "    <path d=\"M0 0h24v24H0V0z\" fill=\"none\"/>\n",
              "    <path d=\"M18.56 5.44l.94 2.06.94-2.06 2.06-.94-2.06-.94-.94-2.06-.94 2.06-2.06.94zm-11 1L8.5 8.5l.94-2.06 2.06-.94-2.06-.94L8.5 2.5l-.94 2.06-2.06.94zm10 10l.94 2.06.94-2.06 2.06-.94-2.06-.94-.94-2.06-.94 2.06-2.06.94z\"/><path d=\"M17.41 7.96l-1.37-1.37c-.4-.4-.92-.59-1.43-.59-.52 0-1.04.2-1.43.59L10.3 9.45l-7.72 7.72c-.78.78-.78 2.05 0 2.83L4 21.41c.39.39.9.59 1.41.59.51 0 1.02-.2 1.41-.59l7.78-7.78 2.81-2.81c.8-.78.8-2.07 0-2.86zM5.41 20L4 18.59l7.72-7.72 1.47 1.35L5.41 20z\"/>\n",
              "  </svg>\n",
              "      </button>\n",
              "      \n",
              "  <style>\n",
              "    .colab-df-container {\n",
              "      display:flex;\n",
              "      flex-wrap:wrap;\n",
              "      gap: 12px;\n",
              "    }\n",
              "\n",
              "    .colab-df-convert {\n",
              "      background-color: #E8F0FE;\n",
              "      border: none;\n",
              "      border-radius: 50%;\n",
              "      cursor: pointer;\n",
              "      display: none;\n",
              "      fill: #1967D2;\n",
              "      height: 32px;\n",
              "      padding: 0 0 0 0;\n",
              "      width: 32px;\n",
              "    }\n",
              "\n",
              "    .colab-df-convert:hover {\n",
              "      background-color: #E2EBFA;\n",
              "      box-shadow: 0px 1px 2px rgba(60, 64, 67, 0.3), 0px 1px 3px 1px rgba(60, 64, 67, 0.15);\n",
              "      fill: #174EA6;\n",
              "    }\n",
              "\n",
              "    [theme=dark] .colab-df-convert {\n",
              "      background-color: #3B4455;\n",
              "      fill: #D2E3FC;\n",
              "    }\n",
              "\n",
              "    [theme=dark] .colab-df-convert:hover {\n",
              "      background-color: #434B5C;\n",
              "      box-shadow: 0px 1px 3px 1px rgba(0, 0, 0, 0.15);\n",
              "      filter: drop-shadow(0px 1px 2px rgba(0, 0, 0, 0.3));\n",
              "      fill: #FFFFFF;\n",
              "    }\n",
              "  </style>\n",
              "\n",
              "      <script>\n",
              "        const buttonEl =\n",
              "          document.querySelector('#df-6fd17abf-e44e-4d90-b252-4102724d690a button.colab-df-convert');\n",
              "        buttonEl.style.display =\n",
              "          google.colab.kernel.accessAllowed ? 'block' : 'none';\n",
              "\n",
              "        async function convertToInteractive(key) {\n",
              "          const element = document.querySelector('#df-6fd17abf-e44e-4d90-b252-4102724d690a');\n",
              "          const dataTable =\n",
              "            await google.colab.kernel.invokeFunction('convertToInteractive',\n",
              "                                                     [key], {});\n",
              "          if (!dataTable) return;\n",
              "\n",
              "          const docLinkHtml = 'Like what you see? Visit the ' +\n",
              "            '<a target=\"_blank\" href=https://colab.research.google.com/notebooks/data_table.ipynb>data table notebook</a>'\n",
              "            + ' to learn more about interactive tables.';\n",
              "          element.innerHTML = '';\n",
              "          dataTable['output_type'] = 'display_data';\n",
              "          await google.colab.output.renderOutput(dataTable, element);\n",
              "          const docLink = document.createElement('div');\n",
              "          docLink.innerHTML = docLinkHtml;\n",
              "          element.appendChild(docLink);\n",
              "        }\n",
              "      </script>\n",
              "    </div>\n",
              "  </div>\n",
              "  "
            ]
          },
          "metadata": {},
          "execution_count": 33
        }
      ],
      "source": [
        "df.corr()"
      ]
    },
    {
      "cell_type": "code",
      "source": [],
      "metadata": {
        "id": "p2VN19hRK-A5"
      },
      "execution_count": null,
      "outputs": []
    },
    {
      "cell_type": "markdown",
      "source": [
        "##**Correlation between all columns in dataset**"
      ],
      "metadata": {
        "id": "mlsF1-q7K5zo"
      }
    },
    {
      "cell_type": "code",
      "execution_count": null,
      "metadata": {
        "colab": {
          "base_uri": "https://localhost:8080/",
          "height": 613
        },
        "id": "mJCKZmtcSsRA",
        "outputId": "8dbefd9e-29e1-4bef-abd5-c2df736b6ff2"
      },
      "outputs": [
        {
          "output_type": "execute_result",
          "data": {
            "text/plain": [
              "<matplotlib.axes._subplots.AxesSubplot at 0x7fd7facd5bd0>"
            ]
          },
          "metadata": {},
          "execution_count": 34
        },
        {
          "output_type": "display_data",
          "data": {
            "text/plain": [
              "<Figure size 576x576 with 2 Axes>"
            ],
            "image/png": "[encoded data removed]"
          },
          "metadata": {
            "needs_background": "light"
          }
        }
      ],
      "source": [
        "plt.figure(figsize=(8,8))\n",
        "#sns.heatmap(df.corr(),annot=True)\n",
        "sns.heatmap(df.corr())"
      ]
    },
    {
      "cell_type": "code",
      "execution_count": null,
      "metadata": {
        "colab": {
          "base_uri": "https://localhost:8080/"
        },
        "id": "LKC3N84gS44x",
        "outputId": "011a7509-d8fa-4c9b-a8be-3d7ca90a8def"
      },
      "outputs": [
        {
          "output_type": "execute_result",
          "data": {
            "text/plain": [
              "Index(['Country/Region', 'Confirmed', 'Deaths', 'Recovered', 'Active',\n",
              "       'New cases', 'New deaths', 'New recovered', 'Deaths / 100 Cases',\n",
              "       'Recovered / 100 Cases', 'Deaths / 100 Recovered',\n",
              "       'Confirmed last week', '1 week change', '1 week % increase',\n",
              "       'WHO Region'],\n",
              "      dtype='object')"
            ]
          },
          "metadata": {},
          "execution_count": 35
        }
      ],
      "source": [
        "df.columns"
      ]
    },
    {
      "cell_type": "code",
      "execution_count": null,
      "metadata": {
        "id": "g8wpGmT8WOYa"
      },
      "outputs": [],
      "source": [
        "corrdf = df[['Deaths', 'Recovered', 'Active', 'New cases', 'New deaths', 'New recovered']]"
      ]
    },
    {
      "cell_type": "code",
      "execution_count": null,
      "metadata": {
        "colab": {
          "base_uri": "https://localhost:8080/",
          "height": 206
        },
        "id": "xPK6Ct7aWkXi",
        "outputId": "6c707087-28ce-4340-d01a-ef58736fa8a6"
      },
      "outputs": [
        {
          "output_type": "execute_result",
          "data": {
            "text/plain": [
              "   Deaths  Recovered  Active  New cases  New deaths  New recovered\n",
              "0    1269      25198    9796        106          10             18\n",
              "1     144       2745    1991        117           6             63\n",
              "2    1163      18837    7973        616           8            749\n",
              "3      52        803      52         10           0              0\n",
              "4      41        242     667         18           1              0"
            ],
            "text/html": [
              "\n",
              "  <div id=\"df-3789b9a6-ce7d-4a83-96e9-43f6d1bbd757\">\n",
              "    <div class=\"colab-df-container\">\n",
              "      <div>\n",
              "<style scoped>\n",
              "    .dataframe tbody tr th:only-of-type {\n",
              "        vertical-align: middle;\n",
              "    }\n",
              "\n",
              "    .dataframe tbody tr th {\n",
              "        vertical-align: top;\n",
              "    }\n",
              "\n",
              "    .dataframe thead th {\n",
              "        text-align: right;\n",
              "    }\n",
              "</style>\n",
              "<table border=\"1\" class=\"dataframe\">\n",
              "  <thead>\n",
              "    <tr style=\"text-align: right;\">\n",
              "      <th></th>\n",
              "      <th>Deaths</th>\n",
              "      <th>Recovered</th>\n",
              "      <th>Active</th>\n",
              "      <th>New cases</th>\n",
              "      <th>New deaths</th>\n",
              "      <th>New recovered</th>\n",
              "    </tr>\n",
              "  </thead>\n",
              "  <tbody>\n",
              "    <tr>\n",
              "      <th>0</th>\n",
              "      <td>1269</td>\n",
              "      <td>25198</td>\n",
              "      <td>9796</td>\n",
              "      <td>106</td>\n",
              "      <td>10</td>\n",
              "      <td>18</td>\n",
              "    </tr>\n",
              "    <tr>\n",
              "      <th>1</th>\n",
              "      <td>144</td>\n",
              "      <td>2745</td>\n",
              "      <td>1991</td>\n",
              "      <td>117</td>\n",
              "      <td>6</td>\n",
              "      <td>63</td>\n",
              "    </tr>\n",
              "    <tr>\n",
              "      <th>2</th>\n",
              "      <td>1163</td>\n",
              "      <td>18837</td>\n",
              "      <td>7973</td>\n",
              "      <td>616</td>\n",
              "      <td>8</td>\n",
              "      <td>749</td>\n",
              "    </tr>\n",
              "    <tr>\n",
              "      <th>3</th>\n",
              "      <td>52</td>\n",
              "      <td>803</td>\n",
              "      <td>52</td>\n",
              "      <td>10</td>\n",
              "      <td>0</td>\n",
              "      <td>0</td>\n",
              "    </tr>\n",
              "    <tr>\n",
              "      <th>4</th>\n",
              "      <td>41</td>\n",
              "      <td>242</td>\n",
              "      <td>667</td>\n",
              "      <td>18</td>\n",
              "      <td>1</td>\n",
              "      <td>0</td>\n",
              "    </tr>\n",
              "  </tbody>\n",
              "</table>\n",
              "</div>\n",
              "      <button class=\"colab-df-convert\" onclick=\"convertToInteractive('df-3789b9a6-ce7d-4a83-96e9-43f6d1bbd757')\"\n",
              "              title=\"Convert this dataframe to an interactive table.\"\n",
              "              style=\"display:none;\">\n",
              "        \n",
              "  <svg xmlns=\"http://www.w3.org/2000/svg\" height=\"24px\"viewBox=\"0 0 24 24\"\n",
              "       width=\"24px\">\n",
              "    <path d=\"M0 0h24v24H0V0z\" fill=\"none\"/>\n",
              "    <path d=\"M18.56 5.44l.94 2.06.94-2.06 2.06-.94-2.06-.94-.94-2.06-.94 2.06-2.06.94zm-11 1L8.5 8.5l.94-2.06 2.06-.94-2.06-.94L8.5 2.5l-.94 2.06-2.06.94zm10 10l.94 2.06.94-2.06 2.06-.94-2.06-.94-.94-2.06-.94 2.06-2.06.94z\"/><path d=\"M17.41 7.96l-1.37-1.37c-.4-.4-.92-.59-1.43-.59-.52 0-1.04.2-1.43.59L10.3 9.45l-7.72 7.72c-.78.78-.78 2.05 0 2.83L4 21.41c.39.39.9.59 1.41.59.51 0 1.02-.2 1.41-.59l7.78-7.78 2.81-2.81c.8-.78.8-2.07 0-2.86zM5.41 20L4 18.59l7.72-7.72 1.47 1.35L5.41 20z\"/>\n",
              "  </svg>\n",
              "      </button>\n",
              "      \n",
              "  <style>\n",
              "    .colab-df-container {\n",
              "      display:flex;\n",
              "      flex-wrap:wrap;\n",
              "      gap: 12px;\n",
              "    }\n",
              "\n",
              "    .colab-df-convert {\n",
              "      background-color: #E8F0FE;\n",
              "      border: none;\n",
              "      border-radius: 50%;\n",
              "      cursor: pointer;\n",
              "      display: none;\n",
              "      fill: #1967D2;\n",
              "      height: 32px;\n",
              "      padding: 0 0 0 0;\n",
              "      width: 32px;\n",
              "    }\n",
              "\n",
              "    .colab-df-convert:hover {\n",
              "      background-color: #E2EBFA;\n",
              "      box-shadow: 0px 1px 2px rgba(60, 64, 67, 0.3), 0px 1px 3px 1px rgba(60, 64, 67, 0.15);\n",
              "      fill: #174EA6;\n",
              "    }\n",
              "\n",
              "    [theme=dark] .colab-df-convert {\n",
              "      background-color: #3B4455;\n",
              "      fill: #D2E3FC;\n",
              "    }\n",
              "\n",
              "    [theme=dark] .colab-df-convert:hover {\n",
              "      background-color: #434B5C;\n",
              "      box-shadow: 0px 1px 3px 1px rgba(0, 0, 0, 0.15);\n",
              "      filter: drop-shadow(0px 1px 2px rgba(0, 0, 0, 0.3));\n",
              "      fill: #FFFFFF;\n",
              "    }\n",
              "  </style>\n",
              "\n",
              "      <script>\n",
              "        const buttonEl =\n",
              "          document.querySelector('#df-3789b9a6-ce7d-4a83-96e9-43f6d1bbd757 button.colab-df-convert');\n",
              "        buttonEl.style.display =\n",
              "          google.colab.kernel.accessAllowed ? 'block' : 'none';\n",
              "\n",
              "        async function convertToInteractive(key) {\n",
              "          const element = document.querySelector('#df-3789b9a6-ce7d-4a83-96e9-43f6d1bbd757');\n",
              "          const dataTable =\n",
              "            await google.colab.kernel.invokeFunction('convertToInteractive',\n",
              "                                                     [key], {});\n",
              "          if (!dataTable) return;\n",
              "\n",
              "          const docLinkHtml = 'Like what you see? Visit the ' +\n",
              "            '<a target=\"_blank\" href=https://colab.research.google.com/notebooks/data_table.ipynb>data table notebook</a>'\n",
              "            + ' to learn more about interactive tables.';\n",
              "          element.innerHTML = '';\n",
              "          dataTable['output_type'] = 'display_data';\n",
              "          await google.colab.output.renderOutput(dataTable, element);\n",
              "          const docLink = document.createElement('div');\n",
              "          docLink.innerHTML = docLinkHtml;\n",
              "          element.appendChild(docLink);\n",
              "        }\n",
              "      </script>\n",
              "    </div>\n",
              "  </div>\n",
              "  "
            ]
          },
          "metadata": {},
          "execution_count": 37
        }
      ],
      "source": [
        "corrdf.head()"
      ]
    },
    {
      "cell_type": "code",
      "execution_count": null,
      "metadata": {
        "colab": {
          "base_uri": "https://localhost:8080/",
          "height": 238
        },
        "id": "6QBjdPtGWnOV",
        "outputId": "bd5bfc08-5ecd-4e3a-f6f7-8b7c8a3bfe0f"
      },
      "outputs": [
        {
          "output_type": "execute_result",
          "data": {
            "text/plain": [
              "                 Deaths  Recovered    Active  New cases  New deaths  \\\n",
              "Deaths         1.000000   0.832098  0.871586   0.806975    0.814161   \n",
              "Recovered      0.832098   1.000000  0.682103   0.818942    0.820338   \n",
              "Active         0.871586   0.682103  1.000000   0.851190    0.781123   \n",
              "New cases      0.806975   0.818942  0.851190   1.000000    0.935947   \n",
              "New deaths     0.814161   0.820338  0.781123   0.935947    1.000000   \n",
              "New recovered  0.765114   0.919203  0.673887   0.914765    0.889234   \n",
              "\n",
              "               New recovered  \n",
              "Deaths              0.765114  \n",
              "Recovered           0.919203  \n",
              "Active              0.673887  \n",
              "New cases           0.914765  \n",
              "New deaths          0.889234  \n",
              "New recovered       1.000000  "
            ],
            "text/html": [
              "\n",
              "  <div id=\"df-f00443ae-2d6c-4c1d-b16c-06ba0c14219b\">\n",
              "    <div class=\"colab-df-container\">\n",
              "      <div>\n",
              "<style scoped>\n",
              "    .dataframe tbody tr th:only-of-type {\n",
              "        vertical-align: middle;\n",
              "    }\n",
              "\n",
              "    .dataframe tbody tr th {\n",
              "        vertical-align: top;\n",
              "    }\n",
              "\n",
              "    .dataframe thead th {\n",
              "        text-align: right;\n",
              "    }\n",
              "</style>\n",
              "<table border=\"1\" class=\"dataframe\">\n",
              "  <thead>\n",
              "    <tr style=\"text-align: right;\">\n",
              "      <th></th>\n",
              "      <th>Deaths</th>\n",
              "      <th>Recovered</th>\n",
              "      <th>Active</th>\n",
              "      <th>New cases</th>\n",
              "      <th>New deaths</th>\n",
              "      <th>New recovered</th>\n",
              "    </tr>\n",
              "  </thead>\n",
              "  <tbody>\n",
              "    <tr>\n",
              "      <th>Deaths</th>\n",
              "      <td>1.000000</td>\n",
              "      <td>0.832098</td>\n",
              "      <td>0.871586</td>\n",
              "      <td>0.806975</td>\n",
              "      <td>0.814161</td>\n",
              "      <td>0.765114</td>\n",
              "    </tr>\n",
              "    <tr>\n",
              "      <th>Recovered</th>\n",
              "      <td>0.832098</td>\n",
              "      <td>1.000000</td>\n",
              "      <td>0.682103</td>\n",
              "      <td>0.818942</td>\n",
              "      <td>0.820338</td>\n",
              "      <td>0.919203</td>\n",
              "    </tr>\n",
              "    <tr>\n",
              "      <th>Active</th>\n",
              "      <td>0.871586</td>\n",
              "      <td>0.682103</td>\n",
              "      <td>1.000000</td>\n",
              "      <td>0.851190</td>\n",
              "      <td>0.781123</td>\n",
              "      <td>0.673887</td>\n",
              "    </tr>\n",
              "    <tr>\n",
              "      <th>New cases</th>\n",
              "      <td>0.806975</td>\n",
              "      <td>0.818942</td>\n",
              "      <td>0.851190</td>\n",
              "      <td>1.000000</td>\n",
              "      <td>0.935947</td>\n",
              "      <td>0.914765</td>\n",
              "    </tr>\n",
              "    <tr>\n",
              "      <th>New deaths</th>\n",
              "      <td>0.814161</td>\n",
              "      <td>0.820338</td>\n",
              "      <td>0.781123</td>\n",
              "      <td>0.935947</td>\n",
              "      <td>1.000000</td>\n",
              "      <td>0.889234</td>\n",
              "    </tr>\n",
              "    <tr>\n",
              "      <th>New recovered</th>\n",
              "      <td>0.765114</td>\n",
              "      <td>0.919203</td>\n",
              "      <td>0.673887</td>\n",
              "      <td>0.914765</td>\n",
              "      <td>0.889234</td>\n",
              "      <td>1.000000</td>\n",
              "    </tr>\n",
              "  </tbody>\n",
              "</table>\n",
              "</div>\n",
              "      <button class=\"colab-df-convert\" onclick=\"convertToInteractive('df-f00443ae-2d6c-4c1d-b16c-06ba0c14219b')\"\n",
              "              title=\"Convert this dataframe to an interactive table.\"\n",
              "              style=\"display:none;\">\n",
              "        \n",
              "  <svg xmlns=\"http://www.w3.org/2000/svg\" height=\"24px\"viewBox=\"0 0 24 24\"\n",
              "       width=\"24px\">\n",
              "    <path d=\"M0 0h24v24H0V0z\" fill=\"none\"/>\n",
              "    <path d=\"M18.56 5.44l.94 2.06.94-2.06 2.06-.94-2.06-.94-.94-2.06-.94 2.06-2.06.94zm-11 1L8.5 8.5l.94-2.06 2.06-.94-2.06-.94L8.5 2.5l-.94 2.06-2.06.94zm10 10l.94 2.06.94-2.06 2.06-.94-2.06-.94-.94-2.06-.94 2.06-2.06.94z\"/><path d=\"M17.41 7.96l-1.37-1.37c-.4-.4-.92-.59-1.43-.59-.52 0-1.04.2-1.43.59L10.3 9.45l-7.72 7.72c-.78.78-.78 2.05 0 2.83L4 21.41c.39.39.9.59 1.41.59.51 0 1.02-.2 1.41-.59l7.78-7.78 2.81-2.81c.8-.78.8-2.07 0-2.86zM5.41 20L4 18.59l7.72-7.72 1.47 1.35L5.41 20z\"/>\n",
              "  </svg>\n",
              "      </button>\n",
              "      \n",
              "  <style>\n",
              "    .colab-df-container {\n",
              "      display:flex;\n",
              "      flex-wrap:wrap;\n",
              "      gap: 12px;\n",
              "    }\n",
              "\n",
              "    .colab-df-convert {\n",
              "      background-color: #E8F0FE;\n",
              "      border: none;\n",
              "      border-radius: 50%;\n",
              "      cursor: pointer;\n",
              "      display: none;\n",
              "      fill: #1967D2;\n",
              "      height: 32px;\n",
              "      padding: 0 0 0 0;\n",
              "      width: 32px;\n",
              "    }\n",
              "\n",
              "    .colab-df-convert:hover {\n",
              "      background-color: #E2EBFA;\n",
              "      box-shadow: 0px 1px 2px rgba(60, 64, 67, 0.3), 0px 1px 3px 1px rgba(60, 64, 67, 0.15);\n",
              "      fill: #174EA6;\n",
              "    }\n",
              "\n",
              "    [theme=dark] .colab-df-convert {\n",
              "      background-color: #3B4455;\n",
              "      fill: #D2E3FC;\n",
              "    }\n",
              "\n",
              "    [theme=dark] .colab-df-convert:hover {\n",
              "      background-color: #434B5C;\n",
              "      box-shadow: 0px 1px 3px 1px rgba(0, 0, 0, 0.15);\n",
              "      filter: drop-shadow(0px 1px 2px rgba(0, 0, 0, 0.3));\n",
              "      fill: #FFFFFF;\n",
              "    }\n",
              "  </style>\n",
              "\n",
              "      <script>\n",
              "        const buttonEl =\n",
              "          document.querySelector('#df-f00443ae-2d6c-4c1d-b16c-06ba0c14219b button.colab-df-convert');\n",
              "        buttonEl.style.display =\n",
              "          google.colab.kernel.accessAllowed ? 'block' : 'none';\n",
              "\n",
              "        async function convertToInteractive(key) {\n",
              "          const element = document.querySelector('#df-f00443ae-2d6c-4c1d-b16c-06ba0c14219b');\n",
              "          const dataTable =\n",
              "            await google.colab.kernel.invokeFunction('convertToInteractive',\n",
              "                                                     [key], {});\n",
              "          if (!dataTable) return;\n",
              "\n",
              "          const docLinkHtml = 'Like what you see? Visit the ' +\n",
              "            '<a target=\"_blank\" href=https://colab.research.google.com/notebooks/data_table.ipynb>data table notebook</a>'\n",
              "            + ' to learn more about interactive tables.';\n",
              "          element.innerHTML = '';\n",
              "          dataTable['output_type'] = 'display_data';\n",
              "          await google.colab.output.renderOutput(dataTable, element);\n",
              "          const docLink = document.createElement('div');\n",
              "          docLink.innerHTML = docLinkHtml;\n",
              "          element.appendChild(docLink);\n",
              "        }\n",
              "      </script>\n",
              "    </div>\n",
              "  </div>\n",
              "  "
            ]
          },
          "metadata": {},
          "execution_count": 38
        }
      ],
      "source": [
        "corrdf.corr()"
      ]
    },
    {
      "cell_type": "markdown",
      "source": [
        "##**Correlation Matrix for required columns like Deaths,\tRecovered,\tActive,\tNew cases,\tNew deaths,\tNew recovered**"
      ],
      "metadata": {
        "id": "R_SWUEFbKlH1"
      }
    },
    {
      "cell_type": "code",
      "execution_count": null,
      "metadata": {
        "colab": {
          "base_uri": "https://localhost:8080/",
          "height": 569
        },
        "id": "s5EsqcmAWyjs",
        "outputId": "aae21373-b28e-4014-b736-be6fc394acb2"
      },
      "outputs": [
        {
          "output_type": "execute_result",
          "data": {
            "text/plain": [
              "<matplotlib.axes._subplots.AxesSubplot at 0x7fd7f7870b50>"
            ]
          },
          "metadata": {},
          "execution_count": 39
        },
        {
          "output_type": "display_data",
          "data": {
            "text/plain": [
              "<Figure size 576x576 with 2 Axes>"
            ],
            "image/png": "[encoded data removed]"
          },
          "metadata": {
            "needs_background": "light"
          }
        }
      ],
      "source": [
        "plt.figure(figsize=(8,8))\n",
        "sns.heatmap(corrdf.corr(), annot=True)"
      ]
    },
    {
      "cell_type": "code",
      "execution_count": null,
      "metadata": {
        "id": "Oh11k6wrW3J1"
      },
      "outputs": [],
      "source": [
        "sns.pairplot(corrdf.corr())"
      ]
    },
    {
      "cell_type": "code",
      "execution_count": null,
      "metadata": {
        "id": "7eyYAiaDZX3r"
      },
      "outputs": [],
      "source": [
        "corrdf_pairplot = corrdf.dropna() #Drop missing values from the data before plotting."
      ]
    },
    {
      "cell_type": "code",
      "execution_count": null,
      "metadata": {
        "colab": {
          "base_uri": "https://localhost:8080/",
          "height": 206
        },
        "id": "OHW7HluSaVZe",
        "outputId": "5ad19aeb-9ab2-4e61-ad6a-a7796880a5e8"
      },
      "outputs": [
        {
          "output_type": "execute_result",
          "data": {
            "text/plain": [
              "   Deaths  Recovered  Active  New cases  New deaths  New recovered\n",
              "0    1269      25198    9796        106          10             18\n",
              "1     144       2745    1991        117           6             63\n",
              "2    1163      18837    7973        616           8            749\n",
              "3      52        803      52         10           0              0\n",
              "4      41        242     667         18           1              0"
            ],
            "text/html": [
              "\n",
              "  <div id=\"df-7f566d9f-20da-490d-ac0f-edf9b14396de\">\n",
              "    <div class=\"colab-df-container\">\n",
              "      <div>\n",
              "<style scoped>\n",
              "    .dataframe tbody tr th:only-of-type {\n",
              "        vertical-align: middle;\n",
              "    }\n",
              "\n",
              "    .dataframe tbody tr th {\n",
              "        vertical-align: top;\n",
              "    }\n",
              "\n",
              "    .dataframe thead th {\n",
              "        text-align: right;\n",
              "    }\n",
              "</style>\n",
              "<table border=\"1\" class=\"dataframe\">\n",
              "  <thead>\n",
              "    <tr style=\"text-align: right;\">\n",
              "      <th></th>\n",
              "      <th>Deaths</th>\n",
              "      <th>Recovered</th>\n",
              "      <th>Active</th>\n",
              "      <th>New cases</th>\n",
              "      <th>New deaths</th>\n",
              "      <th>New recovered</th>\n",
              "    </tr>\n",
              "  </thead>\n",
              "  <tbody>\n",
              "    <tr>\n",
              "      <th>0</th>\n",
              "      <td>1269</td>\n",
              "      <td>25198</td>\n",
              "      <td>9796</td>\n",
              "      <td>106</td>\n",
              "      <td>10</td>\n",
              "      <td>18</td>\n",
              "    </tr>\n",
              "    <tr>\n",
              "      <th>1</th>\n",
              "      <td>144</td>\n",
              "      <td>2745</td>\n",
              "      <td>1991</td>\n",
              "      <td>117</td>\n",
              "      <td>6</td>\n",
              "      <td>63</td>\n",
              "    </tr>\n",
              "    <tr>\n",
              "      <th>2</th>\n",
              "      <td>1163</td>\n",
              "      <td>18837</td>\n",
              "      <td>7973</td>\n",
              "      <td>616</td>\n",
              "      <td>8</td>\n",
              "      <td>749</td>\n",
              "    </tr>\n",
              "    <tr>\n",
              "      <th>3</th>\n",
              "      <td>52</td>\n",
              "      <td>803</td>\n",
              "      <td>52</td>\n",
              "      <td>10</td>\n",
              "      <td>0</td>\n",
              "      <td>0</td>\n",
              "    </tr>\n",
              "    <tr>\n",
              "      <th>4</th>\n",
              "      <td>41</td>\n",
              "      <td>242</td>\n",
              "      <td>667</td>\n",
              "      <td>18</td>\n",
              "      <td>1</td>\n",
              "      <td>0</td>\n",
              "    </tr>\n",
              "  </tbody>\n",
              "</table>\n",
              "</div>\n",
              "      <button class=\"colab-df-convert\" onclick=\"convertToInteractive('df-7f566d9f-20da-490d-ac0f-edf9b14396de')\"\n",
              "              title=\"Convert this dataframe to an interactive table.\"\n",
              "              style=\"display:none;\">\n",
              "        \n",
              "  <svg xmlns=\"http://www.w3.org/2000/svg\" height=\"24px\"viewBox=\"0 0 24 24\"\n",
              "       width=\"24px\">\n",
              "    <path d=\"M0 0h24v24H0V0z\" fill=\"none\"/>\n",
              "    <path d=\"M18.56 5.44l.94 2.06.94-2.06 2.06-.94-2.06-.94-.94-2.06-.94 2.06-2.06.94zm-11 1L8.5 8.5l.94-2.06 2.06-.94-2.06-.94L8.5 2.5l-.94 2.06-2.06.94zm10 10l.94 2.06.94-2.06 2.06-.94-2.06-.94-.94-2.06-.94 2.06-2.06.94z\"/><path d=\"M17.41 7.96l-1.37-1.37c-.4-.4-.92-.59-1.43-.59-.52 0-1.04.2-1.43.59L10.3 9.45l-7.72 7.72c-.78.78-.78 2.05 0 2.83L4 21.41c.39.39.9.59 1.41.59.51 0 1.02-.2 1.41-.59l7.78-7.78 2.81-2.81c.8-.78.8-2.07 0-2.86zM5.41 20L4 18.59l7.72-7.72 1.47 1.35L5.41 20z\"/>\n",
              "  </svg>\n",
              "      </button>\n",
              "      \n",
              "  <style>\n",
              "    .colab-df-container {\n",
              "      display:flex;\n",
              "      flex-wrap:wrap;\n",
              "      gap: 12px;\n",
              "    }\n",
              "\n",
              "    .colab-df-convert {\n",
              "      background-color: #E8F0FE;\n",
              "      border: none;\n",
              "      border-radius: 50%;\n",
              "      cursor: pointer;\n",
              "      display: none;\n",
              "      fill: #1967D2;\n",
              "      height: 32px;\n",
              "      padding: 0 0 0 0;\n",
              "      width: 32px;\n",
              "    }\n",
              "\n",
              "    .colab-df-convert:hover {\n",
              "      background-color: #E2EBFA;\n",
              "      box-shadow: 0px 1px 2px rgba(60, 64, 67, 0.3), 0px 1px 3px 1px rgba(60, 64, 67, 0.15);\n",
              "      fill: #174EA6;\n",
              "    }\n",
              "\n",
              "    [theme=dark] .colab-df-convert {\n",
              "      background-color: #3B4455;\n",
              "      fill: #D2E3FC;\n",
              "    }\n",
              "\n",
              "    [theme=dark] .colab-df-convert:hover {\n",
              "      background-color: #434B5C;\n",
              "      box-shadow: 0px 1px 3px 1px rgba(0, 0, 0, 0.15);\n",
              "      filter: drop-shadow(0px 1px 2px rgba(0, 0, 0, 0.3));\n",
              "      fill: #FFFFFF;\n",
              "    }\n",
              "  </style>\n",
              "\n",
              "      <script>\n",
              "        const buttonEl =\n",
              "          document.querySelector('#df-7f566d9f-20da-490d-ac0f-edf9b14396de button.colab-df-convert');\n",
              "        buttonEl.style.display =\n",
              "          google.colab.kernel.accessAllowed ? 'block' : 'none';\n",
              "\n",
              "        async function convertToInteractive(key) {\n",
              "          const element = document.querySelector('#df-7f566d9f-20da-490d-ac0f-edf9b14396de');\n",
              "          const dataTable =\n",
              "            await google.colab.kernel.invokeFunction('convertToInteractive',\n",
              "                                                     [key], {});\n",
              "          if (!dataTable) return;\n",
              "\n",
              "          const docLinkHtml = 'Like what you see? Visit the ' +\n",
              "            '<a target=\"_blank\" href=https://colab.research.google.com/notebooks/data_table.ipynb>data table notebook</a>'\n",
              "            + ' to learn more about interactive tables.';\n",
              "          element.innerHTML = '';\n",
              "          dataTable['output_type'] = 'display_data';\n",
              "          await google.colab.output.renderOutput(dataTable, element);\n",
              "          const docLink = document.createElement('div');\n",
              "          docLink.innerHTML = docLinkHtml;\n",
              "          element.appendChild(docLink);\n",
              "        }\n",
              "      </script>\n",
              "    </div>\n",
              "  </div>\n",
              "  "
            ]
          },
          "metadata": {},
          "execution_count": 42
        }
      ],
      "source": [
        "corrdf_pairplot.head()"
      ]
    },
    {
      "cell_type": "markdown",
      "source": [
        "##**Graph to show correlation between Deaths,\tRecovered\tActive,\tNew cases,\tNew deaths,\tNew recovered**"
      ],
      "metadata": {
        "id": "oHmkvK9UKQ7k"
      }
    },
    {
      "cell_type": "code",
      "execution_count": null,
      "metadata": {
        "colab": {
          "base_uri": "https://localhost:8080/",
          "height": 1000
        },
        "id": "hLqgEyquaBlt",
        "outputId": "577d7516-4e2e-42b6-982e-c81ba92fb337"
      },
      "outputs": [
        {
          "output_type": "stream",
          "name": "stderr",
          "text": [
            "/usr/local/lib/python3.7/dist-packages/seaborn/axisgrid.py:2076: UserWarning: The `size` parameter has been renamed to `height`; please update your code.\n",
            "  warnings.warn(msg, UserWarning)\n"
          ]
        },
        {
          "output_type": "execute_result",
          "data": {
            "text/plain": [
              "<seaborn.axisgrid.PairGrid at 0x7fd7f6823990>"
            ]
          },
          "metadata": {},
          "execution_count": 43
        },
        {
          "output_type": "display_data",
          "data": {
            "text/plain": [
              "<Figure size 1728x1728 with 42 Axes>"
            ],
            "image/png": "[encoded data removed]"
          },
          "metadata": {
            "needs_background": "light"
          }
        }
      ],
      "source": [
        "sns.pairplot(corrdf_pairplot, size = 4) # As new cases increases new deaths also increases from correlation"
      ]
    },
    {
      "cell_type": "markdown",
      "metadata": {
        "id": "Ps5w2FAepN7C"
      },
      "source": [
        "##**Variance**"
      ]
    },
    {
      "cell_type": "code",
      "execution_count": null,
      "metadata": {
        "colab": {
          "base_uri": "https://localhost:8080/"
        },
        "id": "KNNBzqUDaGQT",
        "outputId": "4a809f94-1aea-42bb-c77b-3c8b3be1a68f"
      },
      "outputs": [
        {
          "output_type": "stream",
          "name": "stderr",
          "text": [
            "/usr/local/lib/python3.7/dist-packages/ipykernel_launcher.py:1: FutureWarning: Dropping of nuisance columns in DataFrame reductions (with 'numeric_only=None') is deprecated; in a future version this will raise TypeError.  Select only valid columns before calling the reduction.\n",
            "  \"\"\"Entry point for launching an IPython kernel.\n"
          ]
        },
        {
          "output_type": "execute_result",
          "data": {
            "text/plain": [
              "Confirmed                 1.469332e+11\n",
              "Deaths                    1.988101e+08\n",
              "Recovered                 3.617155e+10\n",
              "Active                    4.550806e+10\n",
              "New cases                 3.260838e+07\n",
              "New deaths                1.440892e+04\n",
              "New recovered             1.762085e+07\n",
              "Deaths / 100 Cases        1.193221e+01\n",
              "Recovered / 100 Cases     6.910429e+02\n",
              "Deaths / 100 Recovered             NaN\n",
              "Confirmed last week       1.144291e+11\n",
              "1 week change             2.255407e+09\n",
              "1 week % increase         6.007321e+02\n",
              "dtype: float64"
            ]
          },
          "metadata": {},
          "execution_count": 44
        }
      ],
      "source": [
        "df.var()"
      ]
    },
    {
      "cell_type": "markdown",
      "metadata": {
        "id": "CK59qV1u2mwx"
      },
      "source": [
        "##**Mean, Median**"
      ]
    },
    {
      "cell_type": "code",
      "execution_count": null,
      "metadata": {
        "colab": {
          "base_uri": "https://localhost:8080/"
        },
        "id": "1gSXg3Gl2s9Z",
        "outputId": "604fa959-e479-45e5-ee3b-e53657e28c2b"
      },
      "outputs": [
        {
          "output_type": "stream",
          "name": "stderr",
          "text": [
            "/usr/local/lib/python3.7/dist-packages/ipykernel_launcher.py:1: FutureWarning: Dropping of nuisance columns in DataFrame reductions (with 'numeric_only=None') is deprecated; in a future version this will raise TypeError.  Select only valid columns before calling the reduction.\n",
            "  \"\"\"Entry point for launching an IPython kernel.\n"
          ]
        },
        {
          "output_type": "execute_result",
          "data": {
            "text/plain": [
              "Confirmed                 8.813094e+04\n",
              "Deaths                    3.497519e+03\n",
              "Recovered                 5.063148e+04\n",
              "Active                    3.400194e+04\n",
              "New cases                 1.222957e+03\n",
              "New deaths                2.895722e+01\n",
              "New recovered             9.338128e+02\n",
              "Deaths / 100 Cases        3.019519e+00\n",
              "Recovered / 100 Cases     6.482053e+01\n",
              "Deaths / 100 Recovered             inf\n",
              "Confirmed last week       7.868248e+04\n",
              "1 week change             9.448460e+03\n",
              "1 week % increase         1.360620e+01\n",
              "dtype: float64"
            ]
          },
          "metadata": {},
          "execution_count": 45
        }
      ],
      "source": [
        "df.mean()"
      ]
    },
    {
      "cell_type": "code",
      "execution_count": null,
      "metadata": {
        "colab": {
          "base_uri": "https://localhost:8080/"
        },
        "id": "fFsGeCUr4VNj",
        "outputId": "9b455e4d-0db0-43a4-ee3d-567b39c1bca2"
      },
      "outputs": [
        {
          "output_type": "stream",
          "name": "stderr",
          "text": [
            "/usr/local/lib/python3.7/dist-packages/ipykernel_launcher.py:1: FutureWarning: Dropping of nuisance columns in DataFrame reductions (with 'numeric_only=None') is deprecated; in a future version this will raise TypeError.  Select only valid columns before calling the reduction.\n",
            "  \"\"\"Entry point for launching an IPython kernel.\n"
          ]
        },
        {
          "output_type": "execute_result",
          "data": {
            "text/plain": [
              "Confirmed                 5059.00\n",
              "Deaths                     108.00\n",
              "Recovered                 2815.00\n",
              "Active                    1600.00\n",
              "New cases                   49.00\n",
              "New deaths                   1.00\n",
              "New recovered               22.00\n",
              "Deaths / 100 Cases           2.15\n",
              "Recovered / 100 Cases       71.32\n",
              "Deaths / 100 Recovered       3.62\n",
              "Confirmed last week       5020.00\n",
              "1 week change              432.00\n",
              "1 week % increase            6.89\n",
              "dtype: float64"
            ]
          },
          "metadata": {},
          "execution_count": 46
        }
      ],
      "source": [
        "df.median()"
      ]
    },
    {
      "cell_type": "markdown",
      "metadata": {
        "id": "GdS1Wk2a0rcm"
      },
      "source": [
        "##**Standard deviation**"
      ]
    },
    {
      "cell_type": "code",
      "execution_count": null,
      "metadata": {
        "colab": {
          "base_uri": "https://localhost:8080/"
        },
        "id": "Dw75NoIpzvW_",
        "outputId": "fd187e07-9eaf-412d-c42c-379e777b7d5c"
      },
      "outputs": [
        {
          "output_type": "stream",
          "name": "stderr",
          "text": [
            "/usr/local/lib/python3.7/dist-packages/ipykernel_launcher.py:1: FutureWarning: Dropping of nuisance columns in DataFrame reductions (with 'numeric_only=None') is deprecated; in a future version this will raise TypeError.  Select only valid columns before calling the reduction.\n",
            "  \"\"\"Entry point for launching an IPython kernel.\n"
          ]
        },
        {
          "output_type": "execute_result",
          "data": {
            "text/plain": [
              "Confirmed                 383318.663831\n",
              "Deaths                     14100.002482\n",
              "Recovered                 190188.189643\n",
              "Active                    213326.173371\n",
              "New cases                   5710.374790\n",
              "New deaths                   120.037173\n",
              "New recovered               4197.719635\n",
              "Deaths / 100 Cases             3.454302\n",
              "Recovered / 100 Cases         26.287694\n",
              "Deaths / 100 Recovered              NaN\n",
              "Confirmed last week       338273.676567\n",
              "1 week change              47491.127684\n",
              "1 week % increase             24.509838\n",
              "dtype: float64"
            ]
          },
          "metadata": {},
          "execution_count": 47
        }
      ],
      "source": [
        "df.std()"
      ]
    },
    {
      "cell_type": "markdown",
      "source": [
        "##**Box plot to show 25% 50% 75% deviation with min range and max range of column new cases**"
      ],
      "metadata": {
        "id": "HtaLDkF8J4Rv"
      }
    },
    {
      "cell_type": "code",
      "execution_count": null,
      "metadata": {
        "colab": {
          "base_uri": "https://localhost:8080/",
          "height": 622
        },
        "id": "hm09IcO30nQe",
        "outputId": "fdf9c690-173c-4b46-dfcb-8ddf19959d8b"
      },
      "outputs": [
        {
          "output_type": "execute_result",
          "data": {
            "text/plain": [
              "{'whiskers': [<matplotlib.lines.Line2D at 0x7fd7f3587ad0>,\n",
              "  <matplotlib.lines.Line2D at 0x7fd7f3587f50>],\n",
              " 'caps': [<matplotlib.lines.Line2D at 0x7fd7f3587810>,\n",
              "  <matplotlib.lines.Line2D at 0x7fd7f3598c10>],\n",
              " 'boxes': [<matplotlib.lines.Line2D at 0x7fd7f351fcd0>],\n",
              " 'medians': [<matplotlib.lines.Line2D at 0x7fd7f3594790>],\n",
              " 'fliers': [<matplotlib.lines.Line2D at 0x7fd7f3594f10>],\n",
              " 'means': []}"
            ]
          },
          "metadata": {},
          "execution_count": 48
        },
        {
          "output_type": "display_data",
          "data": {
            "text/plain": [
              "<Figure size 576x576 with 1 Axes>"
            ],
            "image/png": "[encoded data removed]"
          },
          "metadata": {
            "needs_background": "light"
          }
        }
      ],
      "source": [
        "plt.figure(figsize=(8,8))\n",
        "plt.boxplot(df['New cases'])"
      ]
    },
    {
      "cell_type": "markdown",
      "metadata": {
        "id": "p0chxnhL5l36"
      },
      "source": [
        "##**Bar Plot**\n",
        "\n"
      ]
    },
    {
      "cell_type": "code",
      "execution_count": null,
      "metadata": {
        "colab": {
          "base_uri": "https://localhost:8080/"
        },
        "id": "4Y0ceQeV5q54",
        "outputId": "43ab8959-729f-48f3-ea8b-ca6d175d14b0"
      },
      "outputs": [
        {
          "output_type": "execute_result",
          "data": {
            "text/plain": [
              "Index(['Country/Region', 'Confirmed', 'Deaths', 'Recovered', 'Active',\n",
              "       'New cases', 'New deaths', 'New recovered', 'Deaths / 100 Cases',\n",
              "       'Recovered / 100 Cases', 'Deaths / 100 Recovered',\n",
              "       'Confirmed last week', '1 week change', '1 week % increase',\n",
              "       'WHO Region'],\n",
              "      dtype='object')"
            ]
          },
          "metadata": {},
          "execution_count": 49
        }
      ],
      "source": [
        "df.columns\n"
      ]
    },
    {
      "cell_type": "code",
      "execution_count": null,
      "metadata": {
        "id": "6JNz1WST6Hfb"
      },
      "outputs": [],
      "source": [
        "x = df['Country/Region']\n",
        "x = x[:5]\n",
        "y = df['Confirmed']\n",
        "y = y[:5]"
      ]
    },
    {
      "cell_type": "code",
      "execution_count": null,
      "metadata": {
        "colab": {
          "base_uri": "https://localhost:8080/",
          "height": 282
        },
        "id": "vX-o5EDL6cPZ",
        "outputId": "6475a56b-5542-4825-eb62-1fce5bc433df"
      },
      "outputs": [
        {
          "output_type": "execute_result",
          "data": {
            "text/plain": [
              "<BarContainer object of 5 artists>"
            ]
          },
          "metadata": {},
          "execution_count": 51
        },
        {
          "output_type": "display_data",
          "data": {
            "text/plain": [
              "<Figure size 432x288 with 1 Axes>"
            ],
            "image/png": "[encoded data removed]"
          },
          "metadata": {
            "needs_background": "light"
          }
        }
      ],
      "source": [
        "plt.bar(x, y, label=\"Countries\")\n"
      ]
    },
    {
      "cell_type": "markdown",
      "source": [
        "##**Graph of 10 countries vs confirmed cases in that countries**"
      ],
      "metadata": {
        "id": "dqdeswytJqzs"
      }
    },
    {
      "cell_type": "code",
      "execution_count": null,
      "metadata": {
        "id": "j-7rNU2U7Ezb",
        "colab": {
          "base_uri": "https://localhost:8080/",
          "height": 513
        },
        "outputId": "a8839d59-eeaa-4bd8-f63d-4c1395cbcad4"
      },
      "outputs": [
        {
          "output_type": "display_data",
          "data": {
            "text/plain": [
              "<Figure size 1440x576 with 1 Axes>"
            ],
            "image/png": "[encoded data removed]"
          },
          "metadata": {
            "needs_background": "light"
          }
        }
      ],
      "source": [
        "plt.figure(figsize=(20,8))\n",
        "x = df['Country/Region']\n",
        "x = x[5:15]\n",
        "y = df['Confirmed']\n",
        "y = y[5:15]\n",
        "plt.bar(x, y, label=\"Countries\")\n",
        "plt.xlabel('Country/Region')\n",
        "plt.ylabel('Confirmed Cases')\n",
        "plt.title('Country/Region V/S Confirmed Cases')\n",
        "plt.show()"
      ]
    },
    {
      "cell_type": "markdown",
      "source": [
        "##**Skewness**"
      ],
      "metadata": {
        "id": "N_SgXFpGCVJS"
      }
    },
    {
      "cell_type": "code",
      "source": [
        "df.skew()"
      ],
      "metadata": {
        "colab": {
          "base_uri": "https://localhost:8080/"
        },
        "id": "R8AkX6xEDJkZ",
        "outputId": "49a1cf59-71f1-44e7-a26d-76af85a627fd"
      },
      "execution_count": null,
      "outputs": [
        {
          "output_type": "stream",
          "name": "stderr",
          "text": [
            "/usr/local/lib/python3.7/dist-packages/ipykernel_launcher.py:1: FutureWarning: Dropping of nuisance columns in DataFrame reductions (with 'numeric_only=None') is deprecated; in a future version this will raise TypeError.  Select only valid columns before calling the reduction.\n",
            "  \"\"\"Entry point for launching an IPython kernel.\n"
          ]
        },
        {
          "output_type": "execute_result",
          "data": {
            "text/plain": [
              "Confirmed                  8.725676\n",
              "Deaths                     7.464481\n",
              "Recovered                  6.983644\n",
              "Active                    12.182067\n",
              "New cases                  7.720320\n",
              "New deaths                 5.970033\n",
              "New recovered              6.769567\n",
              "Deaths / 100 Cases         3.352173\n",
              "Recovered / 100 Cases     -0.823366\n",
              "Deaths / 100 Recovered          NaN\n",
              "Confirmed last week        8.865198\n",
              "1 week change              7.692012\n",
              "1 week % increase          6.114613\n",
              "dtype: float64"
            ]
          },
          "metadata": {},
          "execution_count": 118
        }
      ]
    },
    {
      "cell_type": "markdown",
      "source": [
        "##**Graph to show skewness in Confirmed cases(Distortion in data)**"
      ],
      "metadata": {
        "id": "MIC6d9zGJUUy"
      }
    },
    {
      "cell_type": "code",
      "source": [
        "bin_size = int((df['Confirmed'].max() - df['Confirmed'].min())/70)\n",
        "print(bin_size)\n",
        "binwidth = 8\n",
        "# plt.hist(df['Confirmed'], bins=range(min(df['Confirmed']), max(df['Confirmed']) + binwidth, binwidth), edgecolor=\"yellow\", color=\"brown\")\n",
        "plt.figure(figsize=(15, 8))\n",
        "plt.hist(df['Confirmed'], bins=70, edgecolor=\"yellow\", color=\"brown\")\n",
        "plt.xlabel('Confirmed Cases')\n",
        "plt.ylabel('Count')\n",
        "plt.show()"
      ],
      "metadata": {
        "colab": {
          "base_uri": "https://localhost:8080/",
          "height": 514
        },
        "id": "-1DvJDu3xGyK",
        "outputId": "5d423c69-3618-4592-f5bc-bef3b88d5956"
      },
      "execution_count": null,
      "outputs": [
        {
          "output_type": "stream",
          "name": "stdout",
          "text": [
            "61289\n"
          ]
        },
        {
          "output_type": "display_data",
          "data": {
            "text/plain": [
              "<Figure size 1080x576 with 1 Axes>"
            ],
            "image/png": "[encoded data removed]"
          },
          "metadata": {
            "needs_background": "light"
          }
        }
      ]
    },
    {
      "cell_type": "markdown",
      "source": [
        "#**Proving confirmed cases column is right skewed with more distortion in data u can also see in graph too....**"
      ],
      "metadata": {
        "id": "Ncu914fXJYxI"
      }
    },
    {
      "cell_type": "code",
      "source": [
        "df['Confirmed'].mean()"
      ],
      "metadata": {
        "colab": {
          "base_uri": "https://localhost:8080/"
        },
        "id": "751zn8PFBfMt",
        "outputId": "6d320546-ae66-4cc7-df2d-7cd11360eb13"
      },
      "execution_count": null,
      "outputs": [
        {
          "output_type": "execute_result",
          "data": {
            "text/plain": [
              "88130.935828877"
            ]
          },
          "metadata": {},
          "execution_count": 110
        }
      ]
    },
    {
      "cell_type": "code",
      "source": [
        "df['Confirmed'].median() # Here Mean > median so we can say that graph is right skewed --> Distortion is more"
      ],
      "metadata": {
        "colab": {
          "base_uri": "https://localhost:8080/"
        },
        "id": "hw7c42QbBlMg",
        "outputId": "6801150a-1c02-445f-ead7-70cb4d76055a"
      },
      "execution_count": null,
      "outputs": [
        {
          "output_type": "execute_result",
          "data": {
            "text/plain": [
              "5059.0"
            ]
          },
          "metadata": {},
          "execution_count": 111
        }
      ]
    },
    {
      "cell_type": "markdown",
      "source": [
        "##**Graph to show skewness in Active cases cases(Distortion in data)**"
      ],
      "metadata": {
        "id": "tC63ZZBuJDE8"
      }
    },
    {
      "cell_type": "code",
      "source": [
        "bin_size = int((df['Confirmed'].max() - df['Confirmed'].min())/70)\n",
        "print(bin_size)\n",
        "binwidth = 8\n",
        "# plt.hist(df['Confirmed'], bins=range(min(df['Confirmed']), max(df['Confirmed']) + binwidth, binwidth), edgecolor=\"yellow\", color=\"brown\")\n",
        "plt.figure(figsize=(15, 8))\n",
        "plt.hist(df['Active'], bins=70, edgecolor=\"yellow\", color=\"brown\")\n",
        "plt.xlabel('Active Cases')\n",
        "plt.ylabel('Count')\n",
        "plt.show()"
      ],
      "metadata": {
        "colab": {
          "base_uri": "https://localhost:8080/",
          "height": 514
        },
        "id": "TriTc6EiCd_g",
        "outputId": "4fc245db-e17b-4c30-ac9e-78505515beb5"
      },
      "execution_count": null,
      "outputs": [
        {
          "output_type": "stream",
          "name": "stdout",
          "text": [
            "61289\n"
          ]
        },
        {
          "output_type": "display_data",
          "data": {
            "text/plain": [
              "<Figure size 1080x576 with 1 Axes>"
            ],
            "image/png": "[encoded data removed]"
          },
          "metadata": {
            "needs_background": "light"
          }
        }
      ]
    },
    {
      "cell_type": "markdown",
      "source": [
        "##**Proving Active cases column is right skew you can also see in graph to..**"
      ],
      "metadata": {
        "id": "HUyC-U0uJI6s"
      }
    },
    {
      "cell_type": "code",
      "source": [
        "df['Active'].mean()"
      ],
      "metadata": {
        "colab": {
          "base_uri": "https://localhost:8080/"
        },
        "id": "6p2_9_MlCof9",
        "outputId": "18509334-0a6a-446d-e575-c5662bba5f5c"
      },
      "execution_count": null,
      "outputs": [
        {
          "output_type": "execute_result",
          "data": {
            "text/plain": [
              "34001.935828877"
            ]
          },
          "metadata": {},
          "execution_count": 115
        }
      ]
    },
    {
      "cell_type": "code",
      "source": [
        "df['Active'].median() #Here Mean > median so we can say that graph is right skewed --> Distortion is more"
      ],
      "metadata": {
        "colab": {
          "base_uri": "https://localhost:8080/"
        },
        "id": "_co0f0MtCuOq",
        "outputId": "3c1ec299-ec2d-4f74-f3e3-3cfcb5fa3bd0"
      },
      "execution_count": null,
      "outputs": [
        {
          "output_type": "execute_result",
          "data": {
            "text/plain": [
              "1600.0"
            ]
          },
          "metadata": {},
          "execution_count": 116
        }
      ]
    },
    {
      "cell_type": "markdown",
      "source": [
        "##**Graph to show skewness in deaths cases(Distortion in data)**"
      ],
      "metadata": {
        "id": "7x_6YlDWIxB7"
      }
    },
    {
      "cell_type": "code",
      "source": [
        "bin_size = int((df['Confirmed'].max() - df['Confirmed'].min())/70)\n",
        "print(bin_size)\n",
        "binwidth = 8\n",
        "# plt.hist(df['Confirmed'], bins=range(min(df['Confirmed']), max(df['Confirmed']) + binwidth, binwidth), edgecolor=\"yellow\", color=\"brown\")\n",
        "plt.figure(figsize=(15, 8))\n",
        "plt.hist(df['Deaths'], bins=70, edgecolor=\"yellow\", color=\"brown\")\n",
        "plt.xlabel('Deaths Cases')\n",
        "plt.ylabel('Count')\n",
        "plt.show()"
      ],
      "metadata": {
        "colab": {
          "base_uri": "https://localhost:8080/",
          "height": 514
        },
        "id": "9bwcDsieDkxw",
        "outputId": "0086b4c6-379b-46ff-a48d-c2fe384ebf30"
      },
      "execution_count": null,
      "outputs": [
        {
          "output_type": "stream",
          "name": "stdout",
          "text": [
            "61289\n"
          ]
        },
        {
          "output_type": "display_data",
          "data": {
            "text/plain": [
              "<Figure size 1080x576 with 1 Axes>"
            ],
            "image/png": "[encoded data removed]"
          },
          "metadata": {
            "needs_background": "light"
          }
        }
      ]
    },
    {
      "cell_type": "markdown",
      "source": [
        "##**Proving deaths column is right skewed**"
      ],
      "metadata": {
        "id": "-zeAOU4HI5eG"
      }
    },
    {
      "cell_type": "code",
      "source": [
        "df['Deaths'].mean()"
      ],
      "metadata": {
        "colab": {
          "base_uri": "https://localhost:8080/"
        },
        "id": "uNswENtUD85i",
        "outputId": "f45bfc68-670d-474a-9413-fea1fc2e679a"
      },
      "execution_count": null,
      "outputs": [
        {
          "output_type": "execute_result",
          "data": {
            "text/plain": [
              "3497.51871657754"
            ]
          },
          "metadata": {},
          "execution_count": 120
        }
      ]
    },
    {
      "cell_type": "code",
      "source": [
        "df['Deaths'].median()"
      ],
      "metadata": {
        "colab": {
          "base_uri": "https://localhost:8080/"
        },
        "id": "vXK425bCEDAg",
        "outputId": "35b32572-7ca4-4206-f45a-1b3286a85e02"
      },
      "execution_count": null,
      "outputs": [
        {
          "output_type": "execute_result",
          "data": {
            "text/plain": [
              "108.0"
            ]
          },
          "metadata": {},
          "execution_count": 121
        }
      ]
    },
    {
      "cell_type": "markdown",
      "source": [
        "##**Graph to show skewness in recovered cases(Distortion in data)**"
      ],
      "metadata": {
        "id": "t7QxxNVhIYU0"
      }
    },
    {
      "cell_type": "code",
      "source": [
        "plt.figure(figsize=(15, 8))\n",
        "plt.hist(df['Recovered'], bins=70, edgecolor=\"yellow\", color=\"brown\")\n",
        "plt.xlabel('Recovered Cases')\n",
        "plt.ylabel('Count')\n",
        "plt.show()"
      ],
      "metadata": {
        "colab": {
          "base_uri": "https://localhost:8080/",
          "height": 497
        },
        "id": "0jhL46smEP6J",
        "outputId": "cb884f53-af94-4217-ca02-2be88382c49c"
      },
      "execution_count": null,
      "outputs": [
        {
          "output_type": "display_data",
          "data": {
            "text/plain": [
              "<Figure size 1080x576 with 1 Axes>"
            ],
            "image/png": "[encoded data removed]"
          },
          "metadata": {
            "needs_background": "light"
          }
        }
      ]
    },
    {
      "cell_type": "markdown",
      "source": [
        "##**Proving Graph is Right skewed (Why?)**"
      ],
      "metadata": {
        "id": "WefkIBRIIkEP"
      }
    },
    {
      "cell_type": "code",
      "source": [
        "df['Recovered'].mean()"
      ],
      "metadata": {
        "colab": {
          "base_uri": "https://localhost:8080/"
        },
        "id": "rgQhijKoEihl",
        "outputId": "7ed3cba4-c392-4b09-966a-1a9370bd6950"
      },
      "execution_count": null,
      "outputs": [
        {
          "output_type": "execute_result",
          "data": {
            "text/plain": [
              "50631.48128342246"
            ]
          },
          "metadata": {},
          "execution_count": 123
        }
      ]
    },
    {
      "cell_type": "code",
      "source": [
        "df['Recovered'].median()"
      ],
      "metadata": {
        "colab": {
          "base_uri": "https://localhost:8080/"
        },
        "id": "HclYRY7QEqDg",
        "outputId": "f49fbaac-71ee-401e-da7d-ad89f9c7ae82"
      },
      "execution_count": null,
      "outputs": [
        {
          "output_type": "execute_result",
          "data": {
            "text/plain": [
              "2815.0"
            ]
          },
          "metadata": {},
          "execution_count": 124
        }
      ]
    },
    {
      "cell_type": "markdown",
      "source": [
        "##**Showing Active cases and deaths where recovery is zero**"
      ],
      "metadata": {
        "id": "Vguv_Y6b2RT_"
      }
    },
    {
      "cell_type": "code",
      "source": [
        "print(\"Minimum: \",df['Confirmed'].min())\n",
        "print(\"Maximum: \",df['Confirmed'].max())"
      ],
      "metadata": {
        "colab": {
          "base_uri": "https://localhost:8080/"
        },
        "id": "FO8f2YDgxSM9",
        "outputId": "756f3486-59d9-4233-b381-2eb2911cd458"
      },
      "execution_count": null,
      "outputs": [
        {
          "output_type": "stream",
          "name": "stdout",
          "text": [
            "Minimum:  10\n",
            "Maximum:  4290259\n"
          ]
        }
      ]
    },
    {
      "cell_type": "code",
      "source": [
        "df.min()"
      ],
      "metadata": {
        "colab": {
          "base_uri": "https://localhost:8080/"
        },
        "id": "as3iLl89xqKQ",
        "outputId": "9b7765a7-e5d3-4617-8701-bc83311deaf9"
      },
      "execution_count": null,
      "outputs": [
        {
          "output_type": "execute_result",
          "data": {
            "text/plain": [
              "Country/Region            Afghanistan\n",
              "Confirmed                          10\n",
              "Deaths                              0\n",
              "Recovered                           0\n",
              "Active                              0\n",
              "New cases                           0\n",
              "New deaths                          0\n",
              "New recovered                       0\n",
              "Deaths / 100 Cases                0.0\n",
              "Recovered / 100 Cases             0.0\n",
              "Deaths / 100 Recovered            0.0\n",
              "Confirmed last week                10\n",
              "1 week change                     -47\n",
              "1 week % increase               -3.84\n",
              "WHO Region                     Africa\n",
              "dtype: object"
            ]
          },
          "metadata": {},
          "execution_count": 77
        }
      ]
    },
    {
      "cell_type": "code",
      "source": [
        "df.max()"
      ],
      "metadata": {
        "colab": {
          "base_uri": "https://localhost:8080/"
        },
        "id": "8MRwEQ89yoL5",
        "outputId": "4ff109dc-0b11-49cd-951c-ad791b034be1"
      },
      "execution_count": null,
      "outputs": [
        {
          "output_type": "execute_result",
          "data": {
            "text/plain": [
              "Country/Region                   Zimbabwe\n",
              "Confirmed                         4290259\n",
              "Deaths                             148011\n",
              "Recovered                         1846641\n",
              "Active                            2816444\n",
              "New cases                           56336\n",
              "New deaths                           1076\n",
              "New recovered                       33728\n",
              "Deaths / 100 Cases                  28.56\n",
              "Recovered / 100 Cases               100.0\n",
              "Deaths / 100 Recovered                inf\n",
              "Confirmed last week               3834677\n",
              "1 week change                      455582\n",
              "1 week % increase                  226.32\n",
              "WHO Region                Western Pacific\n",
              "dtype: object"
            ]
          },
          "metadata": {},
          "execution_count": 78
        }
      ]
    },
    {
      "cell_type": "markdown",
      "source": [
        "##**Information of country where recovery is zero**"
      ],
      "metadata": {
        "id": "FL2Oh2GXH3NK"
      }
    },
    {
      "cell_type": "code",
      "source": [
        "df.loc[(df.Recovered == 0), ['Country/Region', 'Recovered', 'Active', 'Deaths']]  "
      ],
      "metadata": {
        "colab": {
          "base_uri": "https://localhost:8080/",
          "height": 238
        },
        "id": "rcjeapZ4yqLf",
        "outputId": "10b9b5fe-167b-4eff-be4e-33d26b0f0659"
      },
      "execution_count": null,
      "outputs": [
        {
          "output_type": "execute_result",
          "data": {
            "text/plain": [
              "    Country/Region  Recovered  Active  Deaths\n",
              "32          Canada          0  107514    8944\n",
              "117     Mozambique          0    1690      11\n",
              "147         Serbia          0   23598     543\n",
              "161         Sweden          0   73695    5700\n",
              "163          Syria          0     634      40\n",
              "168    Timor-Leste          0      24       0"
            ],
            "text/html": [
              "\n",
              "  <div id=\"df-123475d9-73c0-4b4d-a0ef-5218f8044eec\">\n",
              "    <div class=\"colab-df-container\">\n",
              "      <div>\n",
              "<style scoped>\n",
              "    .dataframe tbody tr th:only-of-type {\n",
              "        vertical-align: middle;\n",
              "    }\n",
              "\n",
              "    .dataframe tbody tr th {\n",
              "        vertical-align: top;\n",
              "    }\n",
              "\n",
              "    .dataframe thead th {\n",
              "        text-align: right;\n",
              "    }\n",
              "</style>\n",
              "<table border=\"1\" class=\"dataframe\">\n",
              "  <thead>\n",
              "    <tr style=\"text-align: right;\">\n",
              "      <th></th>\n",
              "      <th>Country/Region</th>\n",
              "      <th>Recovered</th>\n",
              "      <th>Active</th>\n",
              "      <th>Deaths</th>\n",
              "    </tr>\n",
              "  </thead>\n",
              "  <tbody>\n",
              "    <tr>\n",
              "      <th>32</th>\n",
              "      <td>Canada</td>\n",
              "      <td>0</td>\n",
              "      <td>107514</td>\n",
              "      <td>8944</td>\n",
              "    </tr>\n",
              "    <tr>\n",
              "      <th>117</th>\n",
              "      <td>Mozambique</td>\n",
              "      <td>0</td>\n",
              "      <td>1690</td>\n",
              "      <td>11</td>\n",
              "    </tr>\n",
              "    <tr>\n",
              "      <th>147</th>\n",
              "      <td>Serbia</td>\n",
              "      <td>0</td>\n",
              "      <td>23598</td>\n",
              "      <td>543</td>\n",
              "    </tr>\n",
              "    <tr>\n",
              "      <th>161</th>\n",
              "      <td>Sweden</td>\n",
              "      <td>0</td>\n",
              "      <td>73695</td>\n",
              "      <td>5700</td>\n",
              "    </tr>\n",
              "    <tr>\n",
              "      <th>163</th>\n",
              "      <td>Syria</td>\n",
              "      <td>0</td>\n",
              "      <td>634</td>\n",
              "      <td>40</td>\n",
              "    </tr>\n",
              "    <tr>\n",
              "      <th>168</th>\n",
              "      <td>Timor-Leste</td>\n",
              "      <td>0</td>\n",
              "      <td>24</td>\n",
              "      <td>0</td>\n",
              "    </tr>\n",
              "  </tbody>\n",
              "</table>\n",
              "</div>\n",
              "      <button class=\"colab-df-convert\" onclick=\"convertToInteractive('df-123475d9-73c0-4b4d-a0ef-5218f8044eec')\"\n",
              "              title=\"Convert this dataframe to an interactive table.\"\n",
              "              style=\"display:none;\">\n",
              "        \n",
              "  <svg xmlns=\"http://www.w3.org/2000/svg\" height=\"24px\"viewBox=\"0 0 24 24\"\n",
              "       width=\"24px\">\n",
              "    <path d=\"M0 0h24v24H0V0z\" fill=\"none\"/>\n",
              "    <path d=\"M18.56 5.44l.94 2.06.94-2.06 2.06-.94-2.06-.94-.94-2.06-.94 2.06-2.06.94zm-11 1L8.5 8.5l.94-2.06 2.06-.94-2.06-.94L8.5 2.5l-.94 2.06-2.06.94zm10 10l.94 2.06.94-2.06 2.06-.94-2.06-.94-.94-2.06-.94 2.06-2.06.94z\"/><path d=\"M17.41 7.96l-1.37-1.37c-.4-.4-.92-.59-1.43-.59-.52 0-1.04.2-1.43.59L10.3 9.45l-7.72 7.72c-.78.78-.78 2.05 0 2.83L4 21.41c.39.39.9.59 1.41.59.51 0 1.02-.2 1.41-.59l7.78-7.78 2.81-2.81c.8-.78.8-2.07 0-2.86zM5.41 20L4 18.59l7.72-7.72 1.47 1.35L5.41 20z\"/>\n",
              "  </svg>\n",
              "      </button>\n",
              "      \n",
              "  <style>\n",
              "    .colab-df-container {\n",
              "      display:flex;\n",
              "      flex-wrap:wrap;\n",
              "      gap: 12px;\n",
              "    }\n",
              "\n",
              "    .colab-df-convert {\n",
              "      background-color: #E8F0FE;\n",
              "      border: none;\n",
              "      border-radius: 50%;\n",
              "      cursor: pointer;\n",
              "      display: none;\n",
              "      fill: #1967D2;\n",
              "      height: 32px;\n",
              "      padding: 0 0 0 0;\n",
              "      width: 32px;\n",
              "    }\n",
              "\n",
              "    .colab-df-convert:hover {\n",
              "      background-color: #E2EBFA;\n",
              "      box-shadow: 0px 1px 2px rgba(60, 64, 67, 0.3), 0px 1px 3px 1px rgba(60, 64, 67, 0.15);\n",
              "      fill: #174EA6;\n",
              "    }\n",
              "\n",
              "    [theme=dark] .colab-df-convert {\n",
              "      background-color: #3B4455;\n",
              "      fill: #D2E3FC;\n",
              "    }\n",
              "\n",
              "    [theme=dark] .colab-df-convert:hover {\n",
              "      background-color: #434B5C;\n",
              "      box-shadow: 0px 1px 3px 1px rgba(0, 0, 0, 0.15);\n",
              "      filter: drop-shadow(0px 1px 2px rgba(0, 0, 0, 0.3));\n",
              "      fill: #FFFFFF;\n",
              "    }\n",
              "  </style>\n",
              "\n",
              "      <script>\n",
              "        const buttonEl =\n",
              "          document.querySelector('#df-123475d9-73c0-4b4d-a0ef-5218f8044eec button.colab-df-convert');\n",
              "        buttonEl.style.display =\n",
              "          google.colab.kernel.accessAllowed ? 'block' : 'none';\n",
              "\n",
              "        async function convertToInteractive(key) {\n",
              "          const element = document.querySelector('#df-123475d9-73c0-4b4d-a0ef-5218f8044eec');\n",
              "          const dataTable =\n",
              "            await google.colab.kernel.invokeFunction('convertToInteractive',\n",
              "                                                     [key], {});\n",
              "          if (!dataTable) return;\n",
              "\n",
              "          const docLinkHtml = 'Like what you see? Visit the ' +\n",
              "            '<a target=\"_blank\" href=https://colab.research.google.com/notebooks/data_table.ipynb>data table notebook</a>'\n",
              "            + ' to learn more about interactive tables.';\n",
              "          element.innerHTML = '';\n",
              "          dataTable['output_type'] = 'display_data';\n",
              "          await google.colab.output.renderOutput(dataTable, element);\n",
              "          const docLink = document.createElement('div');\n",
              "          docLink.innerHTML = docLinkHtml;\n",
              "          element.appendChild(docLink);\n",
              "        }\n",
              "      </script>\n",
              "    </div>\n",
              "  </div>\n",
              "  "
            ]
          },
          "metadata": {},
          "execution_count": 83
        }
      ]
    },
    {
      "cell_type": "markdown",
      "source": [
        "##**Bar graph of country vs active cases where recovery is zero**"
      ],
      "metadata": {
        "id": "aCaOXmgTIEEG"
      }
    },
    {
      "cell_type": "code",
      "source": [
        "x = df.loc[(df.Recovered == 0), 'Active'] \n",
        "y = df.loc[(df.Recovered == 0), 'Country/Region']\n",
        "plt.bar(y, x)\n",
        "plt.xlabel('Country/Region')\n",
        "plt.ylabel('Active')\n",
        "plt.title('Country/Region V/S Active Cases')\n",
        "plt.show()"
      ],
      "metadata": {
        "colab": {
          "base_uri": "https://localhost:8080/",
          "height": 295
        },
        "id": "lqA6HLnXz4-p",
        "outputId": "dbe1e6bc-f51c-4e16-bb52-2d5a97fa0763"
      },
      "execution_count": null,
      "outputs": [
        {
          "output_type": "display_data",
          "data": {
            "text/plain": [
              "<Figure size 432x288 with 1 Axes>"
            ],
            "image/png": "[encoded data removed]"
          },
          "metadata": {
            "needs_background": "light"
          }
        }
      ]
    },
    {
      "cell_type": "markdown",
      "source": [
        "##**Bar graph of country vs Deaths cases where recovery is zero**"
      ],
      "metadata": {
        "id": "5PCS6C9-IRzT"
      }
    },
    {
      "cell_type": "code",
      "source": [
        "x = df.loc[(df.Recovered == 0), 'Deaths'] \n",
        "y = df.loc[(df.Recovered == 0), 'Country/Region']\n",
        "plt.bar(y, x)\n",
        "plt.xlabel('Country/Region')\n",
        "plt.ylabel('Deaths')\n",
        "plt.title('Country/Region V/S Active Cases')\n",
        "plt.show()"
      ],
      "metadata": {
        "colab": {
          "base_uri": "https://localhost:8080/",
          "height": 295
        },
        "id": "zwabX1060oRi",
        "outputId": "a30118e9-5b41-4b4c-f6f6-712c80a34fbe"
      },
      "execution_count": null,
      "outputs": [
        {
          "output_type": "display_data",
          "data": {
            "text/plain": [
              "<Figure size 432x288 with 1 Axes>"
            ],
            "image/png": "[encoded data removed]"
          },
          "metadata": {
            "needs_background": "light"
          }
        }
      ]
    },
    {
      "cell_type": "markdown",
      "source": [
        "##**Kurtosis**"
      ],
      "metadata": {
        "id": "r4uRM9YvE8II"
      }
    },
    {
      "cell_type": "code",
      "source": [
        "df.kurtosis()"
      ],
      "metadata": {
        "colab": {
          "base_uri": "https://localhost:8080/"
        },
        "id": "gIR6gPmA1tIn",
        "outputId": "d48eb7b5-85f3-40f5-fc48-b6afa262d800"
      },
      "execution_count": null,
      "outputs": [
        {
          "output_type": "stream",
          "name": "stderr",
          "text": [
            "/usr/local/lib/python3.7/dist-packages/ipykernel_launcher.py:1: FutureWarning: Dropping of nuisance columns in DataFrame reductions (with 'numeric_only=None') is deprecated; in a future version this will raise TypeError.  Select only valid columns before calling the reduction.\n",
            "  \"\"\"Entry point for launching an IPython kernel.\n"
          ]
        },
        {
          "output_type": "execute_result",
          "data": {
            "text/plain": [
              "Confirmed                  86.096572\n",
              "Deaths                     66.480494\n",
              "Recovered                  55.600771\n",
              "Active                    157.921665\n",
              "New cases                  65.022330\n",
              "New deaths                 40.101549\n",
              "New recovered              47.910082\n",
              "Deaths / 100 Cases         17.541183\n",
              "Recovered / 100 Cases      -0.115728\n",
              "Deaths / 100 Recovered           NaN\n",
              "Confirmed last week        89.376884\n",
              "1 week change              61.662738\n",
              "1 week % increase          45.808865\n",
              "dtype: float64"
            ]
          },
          "metadata": {},
          "execution_count": 101
        }
      ]
    },
    {
      "cell_type": "code",
      "source": [
        "x = df.kurtosis()\n",
        "kur = []\n",
        "y = df.columns\n",
        "contr = []\n",
        "for j in y:\n",
        "  contr.append(j)\n",
        "print(y)\n",
        "\n",
        "for i in x:\n",
        "    kur.append(i)\n",
        "kur = pd.DataFrame(kur)\n",
        "kur = kur.replace(to_replace = np.nan, value =0)\n",
        "print(kur)\n",
        "print(contr)\n",
        "\n",
        "plt.bar(contr, kur)"
      ],
      "metadata": {
        "id": "V1XGB9iY_Wc3"
      },
      "execution_count": null,
      "outputs": []
    },
    {
      "cell_type": "code",
      "source": [],
      "metadata": {
        "id": "dKwUHebIIxzx"
      },
      "execution_count": null,
      "outputs": []
    },
    {
      "cell_type": "code",
      "source": [],
      "metadata": {
        "id": "zgsFIICVFQkV"
      },
      "execution_count": null,
      "outputs": []
    }
  ],
  "metadata": {
    "colab": {
      "provenance": [],
      "authorship_tag": "ABX9TyMoZcw3HsUhmtOUIaSqcG7/",
      "include_colab_link": true
    },
    "kernelspec": {
      "display_name": "Python 3",
      "name": "python3"
    },
    "language_info": {
      "name": "python"
    }
  },
  "nbformat": 4,
  "nbformat_minor": 0
}